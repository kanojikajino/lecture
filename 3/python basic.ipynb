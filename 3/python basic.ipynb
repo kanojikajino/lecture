{
 "cells": [
  {
   "cell_type": "code",
   "execution_count": 2,
   "metadata": {
    "slideshow": {
     "slide_type": "skip"
    }
   },
   "outputs": [
    {
     "data": {
      "text/html": [
       "<link rel=\"stylesheet\" type=\"text/css\" href=\"../custom.css\">\n"
      ],
      "text/plain": [
       "<IPython.core.display.HTML object>"
      ]
     },
     "metadata": {},
     "output_type": "display_data"
    }
   ],
   "source": [
    "%%HTML\n",
    "<link rel=\"stylesheet\" type=\"text/css\" href=\"../custom.css\">"
   ]
  },
  {
   "cell_type": "markdown",
   "metadata": {
    "slideshow": {
     "slide_type": "slide"
    }
   },
   "source": [
    "# 応用計量分析２（第3回）\n",
    "\n",
    "\n",
    "\n",
    "\n",
    "\n",
    "\n",
    "\n",
    "### 担当教員: 梶野 洸（かじの ひろし）\n"
   ]
  },
  {
   "cell_type": "markdown",
   "metadata": {
    "slideshow": {
     "slide_type": "slide"
    }
   },
   "source": [
    "# 本日の内容\n",
    "Python に慣れようの回\n",
    "\n",
    "- Python とは？\n",
    "- 環境構築\n",
    "- 基本的な文法\n",
    "- 数値計算"
   ]
  },
  {
   "cell_type": "markdown",
   "metadata": {
    "slideshow": {
     "slide_type": "slide"
    }
   },
   "source": [
    "# Python とは？\n",
    "\n",
    "- プログラミング言語の一つ\n",
    "- 近年よく用いられる\n",
    "    - 文法がわりと簡単\n",
    "    - データ解析に関するライブラリが揃っている\n",
    "    - 特にディープラーニングはほぼ Python"
   ]
  },
  {
   "cell_type": "markdown",
   "metadata": {
    "slideshow": {
     "slide_type": "slide"
    }
   },
   "source": [
    "# Python のライブラリ (1/2)\n",
    "\n",
    "- `numpy`, `scipy`\n",
    "    - 科学計算ライブラリ\n",
    "    - 行列計算、統計処理など\n",
    "    - python ブームの火付け役？\n",
    "- `pandas`\n",
    "    - 時系列解析ライブラリ\n",
    "    - R みたいなやつ"
   ]
  },
  {
   "cell_type": "markdown",
   "metadata": {
    "slideshow": {
     "slide_type": "slide"
    }
   },
   "source": [
    "# Python のライブラリ (2/2)\n",
    "\n",
    "- `keras`, `pytorch`, `tensorflow`\n",
    "    - ディープラーニング用ライブラリ\n",
    "    - ネットワークを組み替えるのが容易\n",
    "    - ディープラーニングやるならこれらを使う\n",
    "- `matplotlib`, `bokeh`, `plotly`\n",
    "    - グラフを描くライブラリ"
   ]
  },
  {
   "cell_type": "markdown",
   "metadata": {
    "slideshow": {
     "slide_type": "slide"
    }
   },
   "source": [
    "# 環境構築\n",
    "どのようにコードを書いて実行するか\n",
    "\n",
    "- 自分で試す場合 Google Colaboratory の利用を想定\n",
    "    - コードの実行が簡単\n",
    "    - 環境セットアップがいらない\n",
    "- 理解度確認テストは初回に説明したように Github でやってください"
   ]
  },
  {
   "cell_type": "markdown",
   "metadata": {
    "slideshow": {
     "slide_type": "slide"
    }
   },
   "source": [
    "# 演習\n",
    "\n",
    "1. https://colab.research.google.com を開く\n",
    "1. `print(\"Hello, world!\")`と打って実行してみる"
   ]
  },
  {
   "cell_type": "markdown",
   "metadata": {
    "slideshow": {
     "slide_type": "slide"
    }
   },
   "source": [
    "# 基本的な文法\n",
    "\n",
    "Hello, world!"
   ]
  },
  {
   "cell_type": "code",
   "execution_count": 3,
   "metadata": {},
   "outputs": [
    {
     "name": "stdout",
     "output_type": "stream",
     "text": [
      "Hello, world!\n"
     ]
    }
   ],
   "source": [
    "print(\"Hello, world!\")"
   ]
  },
  {
   "cell_type": "markdown",
   "metadata": {
    "slideshow": {
     "slide_type": "slide"
    }
   },
   "source": [
    "# 基本的な文法\n",
    "困ったら `print`"
   ]
  },
  {
   "cell_type": "code",
   "execution_count": 4,
   "metadata": {},
   "outputs": [
    {
     "name": "stdout",
     "output_type": "stream",
     "text": [
      "1\n"
     ]
    }
   ],
   "source": [
    "print(1)"
   ]
  },
  {
   "cell_type": "code",
   "execution_count": 5,
   "metadata": {},
   "outputs": [
    {
     "name": "stdout",
     "output_type": "stream",
     "text": [
      "2\n"
     ]
    }
   ],
   "source": [
    "print(1 + 1)"
   ]
  },
  {
   "cell_type": "code",
   "execution_count": 8,
   "metadata": {},
   "outputs": [
    {
     "name": "stdout",
     "output_type": "stream",
     "text": [
      "1\n"
     ]
    }
   ],
   "source": [
    "x = 1\n",
    "print(x)"
   ]
  },
  {
   "cell_type": "markdown",
   "metadata": {
    "slideshow": {
     "slide_type": "slide"
    }
   },
   "source": [
    "# 基本的な文法\n",
    "四則演算"
   ]
  },
  {
   "cell_type": "markdown",
   "metadata": {},
   "source": [
    "色々演算が定義されている"
   ]
  },
  {
   "cell_type": "code",
   "execution_count": 9,
   "metadata": {},
   "outputs": [
    {
     "data": {
      "text/plain": [
       "2"
      ]
     },
     "execution_count": 9,
     "metadata": {},
     "output_type": "execute_result"
    }
   ],
   "source": [
    "1 + 1 # 整数同士の足し算"
   ]
  },
  {
   "cell_type": "code",
   "execution_count": 10,
   "metadata": {},
   "outputs": [
    {
     "data": {
      "text/plain": [
       "2.0"
      ]
     },
     "execution_count": 10,
     "metadata": {},
     "output_type": "execute_result"
    }
   ],
   "source": [
    "1.0 + 1.0 # 実数同士の足し算"
   ]
  },
  {
   "cell_type": "code",
   "execution_count": 11,
   "metadata": {},
   "outputs": [
    {
     "data": {
      "text/plain": [
       "1"
      ]
     },
     "execution_count": 11,
     "metadata": {},
     "output_type": "execute_result"
    }
   ],
   "source": [
    "3 - 2 # 整数同士の引き算"
   ]
  },
  {
   "cell_type": "code",
   "execution_count": 12,
   "metadata": {},
   "outputs": [
    {
     "data": {
      "text/plain": [
       "6"
      ]
     },
     "execution_count": 12,
     "metadata": {},
     "output_type": "execute_result"
    }
   ],
   "source": [
    "3 * 2 # 整数同士の掛け算"
   ]
  },
  {
   "cell_type": "code",
   "execution_count": 13,
   "metadata": {},
   "outputs": [
    {
     "data": {
      "text/plain": [
       "1.6666666666666667"
      ]
     },
     "execution_count": 13,
     "metadata": {},
     "output_type": "execute_result"
    }
   ],
   "source": [
    "5 / 3 # 割り算（Python3の場合、スラッシュで普通の割り算）"
   ]
  },
  {
   "cell_type": "code",
   "execution_count": 14,
   "metadata": {},
   "outputs": [
    {
     "data": {
      "text/plain": [
       "1.6666666666666667"
      ]
     },
     "execution_count": 14,
     "metadata": {},
     "output_type": "execute_result"
    }
   ],
   "source": [
    "5.0 / 3.0 # 実数同士の割り算"
   ]
  },
  {
   "cell_type": "code",
   "execution_count": 15,
   "metadata": {},
   "outputs": [
    {
     "data": {
      "text/plain": [
       "1"
      ]
     },
     "execution_count": 15,
     "metadata": {},
     "output_type": "execute_result"
    }
   ],
   "source": [
    "5 // 3 # 整数同士の割り算で商を知りたい場合"
   ]
  },
  {
   "cell_type": "code",
   "execution_count": 16,
   "metadata": {},
   "outputs": [
    {
     "data": {
      "text/plain": [
       "1"
      ]
     },
     "execution_count": 16,
     "metadata": {},
     "output_type": "execute_result"
    }
   ],
   "source": [
    "10 % 3 # 整数同士の割り算で余りを知りたい場合"
   ]
  },
  {
   "cell_type": "code",
   "execution_count": 17,
   "metadata": {},
   "outputs": [
    {
     "data": {
      "text/plain": [
       "1024"
      ]
     },
     "execution_count": 17,
     "metadata": {},
     "output_type": "execute_result"
    }
   ],
   "source": [
    "2 ** 10 # 累乗は **"
   ]
  },
  {
   "cell_type": "markdown",
   "metadata": {},
   "source": [
    "計算順序は数学と同様"
   ]
  },
  {
   "cell_type": "code",
   "execution_count": 18,
   "metadata": {},
   "outputs": [
    {
     "data": {
      "text/plain": [
       "102.0"
      ]
     },
     "execution_count": 18,
     "metadata": {},
     "output_type": "execute_result"
    }
   ],
   "source": [
    "100 + 10 / 5 # 割り算は足し算より優先される"
   ]
  },
  {
   "cell_type": "code",
   "execution_count": 19,
   "metadata": {},
   "outputs": [
    {
     "data": {
      "text/plain": [
       "22.0"
      ]
     },
     "execution_count": 19,
     "metadata": {},
     "output_type": "execute_result"
    }
   ],
   "source": [
    "(100 + 10) / 5 # カッコを使うと優先される演算を決められる"
   ]
  },
  {
   "cell_type": "markdown",
   "metadata": {},
   "source": [
    "文字列と数字は異なるものとして扱われる"
   ]
  },
  {
   "cell_type": "code",
   "execution_count": 20,
   "metadata": {},
   "outputs": [
    {
     "data": {
      "text/plain": [
       "'Hello, world!'"
      ]
     },
     "execution_count": 20,
     "metadata": {},
     "output_type": "execute_result"
    }
   ],
   "source": [
    "'Hello, world!' # ダブルコーテーション、シングルコーテーションで括ると文字列になる"
   ]
  },
  {
   "cell_type": "code",
   "execution_count": 21,
   "metadata": {},
   "outputs": [
    {
     "data": {
      "text/plain": [
       "'112313'"
      ]
     },
     "execution_count": 21,
     "metadata": {},
     "output_type": "execute_result"
    }
   ],
   "source": [
    "'112313' # 整数(int)ではなく文字列(str)になる"
   ]
  },
  {
   "cell_type": "code",
   "execution_count": 22,
   "metadata": {},
   "outputs": [
    {
     "ename": "TypeError",
     "evalue": "can only concatenate str (not \"int\") to str",
     "output_type": "error",
     "traceback": [
      "\u001b[0;31m---------------------------------------------------------------------------\u001b[0m",
      "\u001b[0;31mTypeError\u001b[0m                                 Traceback (most recent call last)",
      "Input \u001b[0;32mIn [22]\u001b[0m, in \u001b[0;36m<cell line: 1>\u001b[0;34m()\u001b[0m\n\u001b[0;32m----> 1\u001b[0m \u001b[38;5;124;43m'\u001b[39;49m\u001b[38;5;124;43m112313\u001b[39;49m\u001b[38;5;124;43m'\u001b[39;49m\u001b[43m \u001b[49m\u001b[38;5;241;43m+\u001b[39;49m\u001b[43m \u001b[49m\u001b[38;5;241;43m5\u001b[39;49m\n",
      "\u001b[0;31mTypeError\u001b[0m: can only concatenate str (not \"int\") to str"
     ]
    }
   ],
   "source": [
    "'112313' + 5 # str と int の足し算はできない"
   ]
  },
  {
   "cell_type": "code",
   "execution_count": 23,
   "metadata": {},
   "outputs": [
    {
     "data": {
      "text/plain": [
       "'112313112313'"
      ]
     },
     "execution_count": 23,
     "metadata": {},
     "output_type": "execute_result"
    }
   ],
   "source": [
    "'112313' + '112313' # str 同士の足し算は、文字列の連結になる"
   ]
  },
  {
   "cell_type": "markdown",
   "metadata": {
    "slideshow": {
     "slide_type": "slide"
    }
   },
   "source": [
    "# 変数\n",
    "数値、文字列、リストなどを記憶しておける"
   ]
  },
  {
   "cell_type": "code",
   "execution_count": 31,
   "metadata": {},
   "outputs": [
    {
     "name": "stdout",
     "output_type": "stream",
     "text": [
      "1\n"
     ]
    }
   ],
   "source": [
    "x = 1 # x に 1 を代入する\n",
    "print(x)"
   ]
  },
  {
   "cell_type": "code",
   "execution_count": 32,
   "metadata": {},
   "outputs": [
    {
     "name": "stdout",
     "output_type": "stream",
     "text": [
      "2\n"
     ]
    }
   ],
   "source": [
    "x = 1\n",
    "x = 2\n",
    "print(x)"
   ]
  },
  {
   "cell_type": "code",
   "execution_count": 33,
   "metadata": {},
   "outputs": [
    {
     "name": "stdout",
     "output_type": "stream",
     "text": [
      "4\n"
     ]
    }
   ],
   "source": [
    "x = 1\n",
    "y = 4\n",
    "print(x * y)"
   ]
  },
  {
   "cell_type": "code",
   "execution_count": 34,
   "metadata": {},
   "outputs": [
    {
     "name": "stdout",
     "output_type": "stream",
     "text": [
      "1\n"
     ]
    }
   ],
   "source": [
    "x = 0\n",
    "x = x + 1\n",
    "print(x)"
   ]
  },
  {
   "cell_type": "markdown",
   "metadata": {
    "slideshow": {
     "slide_type": "slide"
    }
   },
   "source": [
    "# 関数\n",
    "何度も使う手続きを関数として定義しておける\n",
    "\n",
    "関数: 入出力関係を表したもの\n",
    "\n",
    "- 入力 = 引数\n",
    "- 出力 = 返り値\n",
    "\n",
    "と呼ぶ。 $y=f(x)$ という数学の関数と大体同じ（$x$が引数、$y$が返り値）。"
   ]
  },
  {
   "cell_type": "markdown",
   "metadata": {
    "slideshow": {
     "slide_type": "slide"
    }
   },
   "source": [
    "# 関数の作りかた"
   ]
  },
  {
   "cell_type": "code",
   "execution_count": 26,
   "metadata": {},
   "outputs": [
    {
     "name": "stdout",
     "output_type": "stream",
     "text": [
      "0\n",
      "1\n"
     ]
    }
   ],
   "source": [
    "def increment_one(x0): # def 関数名(引数):\n",
    "    return x0 + 1\n",
    "print(increment_one(x0=0)) # 引数の x という変数に 0 を代入して実行"
   ]
  },
  {
   "cell_type": "code",
   "execution_count": 25,
   "metadata": {},
   "outputs": [
    {
     "ename": "NameError",
     "evalue": "name 'x0' is not defined",
     "output_type": "error",
     "traceback": [
      "\u001b[0;31m---------------------------------------------------------------------------\u001b[0m",
      "\u001b[0;31mNameError\u001b[0m                                 Traceback (most recent call last)",
      "Input \u001b[0;32mIn [25]\u001b[0m, in \u001b[0;36m<cell line: 1>\u001b[0;34m()\u001b[0m\n\u001b[0;32m----> 1\u001b[0m \u001b[38;5;28mprint\u001b[39m(\u001b[43mx0\u001b[49m)\n",
      "\u001b[0;31mNameError\u001b[0m: name 'x0' is not defined"
     ]
    }
   ],
   "source": [
    "print(x0) # 上の関数の引数で x0 という変数が定義されていたが、それは関数の外では使えない"
   ]
  },
  {
   "cell_type": "markdown",
   "metadata": {},
   "source": [
    "- 関数名: `increment_one`（好きな名前を決める）\n",
    "- 引数: `x`\n",
    "    - 引数は **関数内のみ** で使える変数となる\n",
    "    - 変数には最悪何が入ってくるかはわからないが、関数設計時には何を入力したらいいかの想定はする\n",
    "- 返り値: `x + 1`"
   ]
  },
  {
   "cell_type": "markdown",
   "metadata": {
    "slideshow": {
     "slide_type": "slide"
    }
   },
   "source": [
    "# 演習3.0\n",
    "main.py に以下の関数を実装してください。URLはLETUS参照。\n",
    "\n",
    "1. identity\n",
    "    - 関数名: identity\n",
    "    - 引数: 1つ\n",
    "    - 返り値: 引数をそのまま返す\n",
    "1. double\n",
    "    - 関数名: double\n",
    "    - 引数: 1つ\n",
    "    - 返り値: 引数を2倍したものを返す\n",
    "1. addition\n",
    "    - 関数名: addition\n",
    "    - 引数: 2つ\n",
    "    - 返り値: 2つの引数を足したものを返す"
   ]
  },
  {
   "cell_type": "markdown",
   "metadata": {
    "slideshow": {
     "slide_type": "slide"
    }
   },
   "source": [
    "# 演習3.1\n",
    "\n",
    "- 課題1: 税抜き価格を入力として、税込価格（消費税8%、整数でなくてもOK）を出力する関数 `assignment1` を完成させよ。\n",
    "- 課題2: `base` と `exponent` を入力として、 `base` の `exponent` 乗を出力する関数 `assignment2` を完成させよ。\n",
    "- 課題3: `x` を入力として、 (1+x) の 1/x 乗を出力する関数 `assignment3` を完成させよ。\n",
    "    - ちなみに $e=\\lim_{x \\to 0} (1+x)^{1/x} = 2.718281828459045...$"
   ]
  },
  {
   "cell_type": "code",
   "execution_count": 27,
   "metadata": {
    "slideshow": {
     "slide_type": "slide"
    }
   },
   "outputs": [
    {
     "data": {
      "text/plain": [
       "2.71828205201156"
      ]
     },
     "execution_count": 27,
     "metadata": {},
     "output_type": "execute_result"
    }
   ],
   "source": [
    "(1 + 0.000000001) ** (1 / 0.000000001)"
   ]
  },
  {
   "cell_type": "code",
   "execution_count": 28,
   "metadata": {},
   "outputs": [
    {
     "data": {
      "text/plain": [
       "2.716110034086901"
      ]
     },
     "execution_count": 28,
     "metadata": {},
     "output_type": "execute_result"
    }
   ],
   "source": [
    "(1 + 0.0000000000001) ** (1 / 0.0000000000001)"
   ]
  },
  {
   "cell_type": "code",
   "execution_count": 29,
   "metadata": {},
   "outputs": [
    {
     "data": {
      "text/plain": [
       "3.0350352065492614"
      ]
     },
     "execution_count": 29,
     "metadata": {},
     "output_type": "execute_result"
    }
   ],
   "source": [
    "(1 + 0.000000000000001) ** (1 / 0.000000000000001)"
   ]
  },
  {
   "cell_type": "code",
   "execution_count": 30,
   "metadata": {},
   "outputs": [
    {
     "data": {
      "text/plain": [
       "1.0"
      ]
     },
     "execution_count": 30,
     "metadata": {},
     "output_type": "execute_result"
    }
   ],
   "source": [
    "(1 + 0.0000000000000001) ** (1 / 0.0000000000000001)"
   ]
  },
  {
   "cell_type": "markdown",
   "metadata": {
    "slideshow": {
     "slide_type": "slide"
    }
   },
   "source": [
    "# 演習（解説）\n",
    "- コンピュータでは実数を近似的にしか扱えない\n",
    "    - `大きい数 + 非常に小さい数` では、非常に小さい数が無視される（丸め誤差）\n",
    "    - 上の例では $1 + 0.0000000000000001 = 1$\n",
    "- 計算方法の工夫が必要\n",
    "    - $x$ を小さくした極限で変な値になるのは困る"
   ]
  },
  {
   "cell_type": "markdown",
   "metadata": {
    "slideshow": {
     "slide_type": "slide"
    }
   },
   "source": [
    "# リスト\n",
    "複数のオブジェクトをひとまとめにする"
   ]
  },
  {
   "cell_type": "code",
   "execution_count": 35,
   "metadata": {},
   "outputs": [
    {
     "data": {
      "text/plain": [
       "[1, 2, 6, 4, 8]"
      ]
     },
     "execution_count": 35,
     "metadata": {},
     "output_type": "execute_result"
    }
   ],
   "source": [
    "[1, 2, 6, 4, 8] # 大カッコでリストを宣言する"
   ]
  },
  {
   "cell_type": "code",
   "execution_count": 36,
   "metadata": {},
   "outputs": [],
   "source": [
    "x = ['yay!', 1, 3.0, [4, 0.1, 'yay!']] # リストの中身は、数値・文字列・リストなど"
   ]
  },
  {
   "cell_type": "code",
   "execution_count": 39,
   "metadata": {},
   "outputs": [
    {
     "name": "stdout",
     "output_type": "stream",
     "text": [
      "yay!\n"
     ]
    }
   ],
   "source": [
    "#x[3] # 0番目の要素を取り出す\n",
    "print(x[0])"
   ]
  },
  {
   "cell_type": "code",
   "execution_count": 45,
   "metadata": {},
   "outputs": [
    {
     "data": {
      "text/plain": [
       "['yay!', 1]"
      ]
     },
     "execution_count": 45,
     "metadata": {},
     "output_type": "execute_result"
    }
   ],
   "source": [
    "x[0:2] # 0番目から2番目までの要素を取り出す"
   ]
  },
  {
   "cell_type": "code",
   "execution_count": 50,
   "metadata": {},
   "outputs": [
    {
     "name": "stdout",
     "output_type": "stream",
     "text": [
      "[3]\n",
      "[3, 5]\n",
      "None\n",
      "[3, 5, 6]\n"
     ]
    }
   ],
   "source": [
    "x = [] # 空リストを作る\n",
    "x.append(3) # 3 を末尾に追加する\n",
    "print(x)\n",
    "x.append(5)\n",
    "print(x)\n",
    "print(x.append(6)) # append というメソッド自体は何も値を返さない\n",
    "print(x)"
   ]
  },
  {
   "cell_type": "markdown",
   "metadata": {
    "slideshow": {
     "slide_type": "slide"
    }
   },
   "source": [
    "# タプル\n",
    "中身が変更できないリストみたいなもの"
   ]
  },
  {
   "cell_type": "code",
   "execution_count": 52,
   "metadata": {},
   "outputs": [
    {
     "name": "stdout",
     "output_type": "stream",
     "text": [
      "(1, 2, 3)\n"
     ]
    }
   ],
   "source": [
    "x = (1,2,3) # ふつうの括弧でくくるとタプル\n",
    "print(x)"
   ]
  },
  {
   "cell_type": "code",
   "execution_count": 53,
   "metadata": {},
   "outputs": [
    {
     "data": {
      "text/plain": [
       "1"
      ]
     },
     "execution_count": 53,
     "metadata": {},
     "output_type": "execute_result"
    }
   ],
   "source": [
    "x[0] # リストみたいに中の要素にアクセスできる"
   ]
  },
  {
   "cell_type": "code",
   "execution_count": 57,
   "metadata": {},
   "outputs": [
    {
     "ename": "TypeError",
     "evalue": "'tuple' object does not support item assignment",
     "output_type": "error",
     "traceback": [
      "\u001b[0;31m---------------------------------------------------------------------------\u001b[0m",
      "\u001b[0;31mTypeError\u001b[0m                                 Traceback (most recent call last)",
      "Input \u001b[0;32mIn [57]\u001b[0m, in \u001b[0;36m<cell line: 1>\u001b[0;34m()\u001b[0m\n\u001b[0;32m----> 1\u001b[0m x[\u001b[38;5;241m0\u001b[39m] \u001b[38;5;241m=\u001b[39m \u001b[38;5;241m100\u001b[39m\n",
      "\u001b[0;31mTypeError\u001b[0m: 'tuple' object does not support item assignment"
     ]
    }
   ],
   "source": [
    "x[0] = 100 # 一度作ったら変更できない"
   ]
  },
  {
   "cell_type": "markdown",
   "metadata": {
    "slideshow": {
     "slide_type": "slide"
    }
   },
   "source": [
    "# 辞書\n",
    "数字以外のもので値を取り出せる"
   ]
  },
  {
   "cell_type": "code",
   "execution_count": 58,
   "metadata": {},
   "outputs": [],
   "source": [
    "x = {'W': 1, 'b': -0.1} # 中括弧で囲む＆ key: value と書くと辞書ができる"
   ]
  },
  {
   "cell_type": "code",
   "execution_count": 59,
   "metadata": {},
   "outputs": [
    {
     "data": {
      "text/plain": [
       "dict"
      ]
     },
     "execution_count": 59,
     "metadata": {},
     "output_type": "execute_result"
    }
   ],
   "source": [
    "type(x)"
   ]
  },
  {
   "cell_type": "code",
   "execution_count": 62,
   "metadata": {},
   "outputs": [
    {
     "data": {
      "text/plain": [
       "1"
      ]
     },
     "execution_count": 62,
     "metadata": {},
     "output_type": "execute_result"
    }
   ],
   "source": [
    "x['W'] # キーを使ってそれに対応する値を取り出す。キーは文字列でもよい。"
   ]
  },
  {
   "cell_type": "code",
   "execution_count": 63,
   "metadata": {},
   "outputs": [
    {
     "data": {
      "text/plain": [
       "{'W': 1, 'b': -0.1, (1, 2): 3}"
      ]
     },
     "execution_count": 63,
     "metadata": {},
     "output_type": "execute_result"
    }
   ],
   "source": [
    "x[(1, 2)] = 3 # このように新しい要素を追加できる。タプルをキーにすることもできる\n",
    "x"
   ]
  },
  {
   "cell_type": "code",
   "execution_count": 64,
   "metadata": {},
   "outputs": [
    {
     "ename": "TypeError",
     "evalue": "unhashable type: 'list'",
     "output_type": "error",
     "traceback": [
      "\u001b[0;31m---------------------------------------------------------------------------\u001b[0m",
      "\u001b[0;31mTypeError\u001b[0m                                 Traceback (most recent call last)",
      "Input \u001b[0;32mIn [64]\u001b[0m, in \u001b[0;36m<cell line: 1>\u001b[0;34m()\u001b[0m\n\u001b[0;32m----> 1\u001b[0m x[[\u001b[38;5;241m1\u001b[39m,\u001b[38;5;241m2\u001b[39m]] \u001b[38;5;241m=\u001b[39m \u001b[38;5;241m3\u001b[39m\n",
      "\u001b[0;31mTypeError\u001b[0m: unhashable type: 'list'"
     ]
    }
   ],
   "source": [
    "x[[1,2]] = 3 # リストはキーにできない"
   ]
  },
  {
   "cell_type": "markdown",
   "metadata": {
    "slideshow": {
     "slide_type": "slide"
    }
   },
   "source": [
    "# 演習3.1.1\n",
    "\n",
    "1. リスト `input_list` と非負の整数値 `idx` を入力とし、`input_list` の `idx` 番目の要素を出力する関数 `assignment1` を完成させよ。\n",
    "ただし `idx` は 0 以上 `len(input_list)-1` 以下であることを前提とし、`input_list` の一番はじめの要素を「0番目の要素」とする。\n",
    "1. 辞書 `input_dict` と任意の `key` を入力とし、`input_list` の `idx` 番目の要素を出力する関数 `assignment2` を完成させよ。\n",
    "ただし `key` は `input_dict` のキーの集合に含まれているとする。\n",
    "1. リスト `input_list` と任意のオブジェクト `obj` を入力とし、`input_list` の末尾に `obj` を追加したリストを出力する関数 `assignment3` を完成させよ。"
   ]
  },
  {
   "cell_type": "markdown",
   "metadata": {
    "slideshow": {
     "slide_type": "slide"
    }
   },
   "source": [
    "# ここまでのまとめ\n",
    "- 数値、文字列、リスト、タプル、辞書など基本的なオブジェクトを触った\n",
    "    - 複数の値を持っておきたいとき、基本はリストか辞書\n",
    "    - 整数以外のキーで要素を取り出したい場合は辞書\n",
    "- 数値計算をすこしやった\n",
    "- 大体のものは変数に入れておける"
   ]
  },
  {
   "cell_type": "markdown",
   "metadata": {
    "slideshow": {
     "slide_type": "slide"
    }
   },
   "source": [
    "# ここから\n",
    "制御構文に慣れ親しむ\n",
    "- if 文\n",
    "- for 文\n",
    "- while 文"
   ]
  },
  {
   "cell_type": "markdown",
   "metadata": {
    "slideshow": {
     "slide_type": "slide"
    }
   },
   "source": [
    "# 条件・if文\n",
    "ある条件が満たされたときだけ実行される"
   ]
  },
  {
   "cell_type": "code",
   "execution_count": null,
   "metadata": {},
   "outputs": [],
   "source": [
    "x = 1\n",
    "print(x == 1) # x が 1 と等しいとき True\n",
    "print(x != 1) # x が 1 ではないとき True\n",
    "print(x != 0) # x が 0 ではないとき True"
   ]
  },
  {
   "cell_type": "code",
   "execution_count": null,
   "metadata": {},
   "outputs": [],
   "source": [
    "x = 0\n",
    "# if (True/Falseを返す条件):\n",
    "#    True ならば実行するコード（Falseの時は実行されない）\n",
    "if x == 0: # もし x が 0 と等しいならば、以下を実行する\n",
    "    print('yay')\n",
    "    print('hello world')\n",
    "print('yay!!!!!!!!!')"
   ]
  },
  {
   "cell_type": "code",
   "execution_count": null,
   "metadata": {},
   "outputs": [],
   "source": [
    "x = [0,0]\n",
    "if x[0] == 0: # if (条件): が if 文\n",
    "    print('yay!') # Python では必ず <tab> を打ってインデントを下げる！\n",
    "    if x[1] == 1: # if 文の中に if 文を入れられる\n",
    "        print('yayyay')\n",
    "print('hello') # インデントが下がっていないので、ここからは if 文の外"
   ]
  },
  {
   "cell_type": "code",
   "execution_count": null,
   "metadata": {},
   "outputs": [],
   "source": [
    "x = 1\n",
    "if x == 0: # if (条件): が if 文\n",
    "print('yay!') # かならず <tab> を打ってインデントを下げる！"
   ]
  },
  {
   "cell_type": "code",
   "execution_count": null,
   "metadata": {},
   "outputs": [],
   "source": [
    "x = 1\n",
    "if x == 0:\n",
    "    print('x=0')\n",
    "else: # if 文の条件がFalseの場合に実行される\n",
    "    print('x!=0')"
   ]
  },
  {
   "cell_type": "code",
   "execution_count": null,
   "metadata": {},
   "outputs": [],
   "source": [
    "x = 1\n",
    "if x == 0:\n",
    "    print('x=0')\n",
    "elif x == 1:\n",
    "    print('x=1')\n",
    "else:\n",
    "    print('x!=0 and x!=1')"
   ]
  },
  {
   "cell_type": "markdown",
   "metadata": {
    "slideshow": {
     "slide_type": "slide"
    }
   },
   "source": [
    "# for 文"
   ]
  },
  {
   "cell_type": "code",
   "execution_count": null,
   "metadata": {},
   "outputs": [],
   "source": [
    "for i in [0, 1, 2, 3, 4]: # for <変数名> in <なんかリスト的なもの>:\n",
    "    print(i)"
   ]
  },
  {
   "cell_type": "code",
   "execution_count": null,
   "metadata": {},
   "outputs": [],
   "source": [
    "for i in range(5): # range(5) だと 0,1,...,4\n",
    "    print(i)        # for 文内はインデントを下げる"
   ]
  },
  {
   "cell_type": "code",
   "execution_count": null,
   "metadata": {},
   "outputs": [],
   "source": [
    "for i in range(5): # range(5) だと 0,1,...,4\n",
    "print(i)"
   ]
  },
  {
   "cell_type": "code",
   "execution_count": null,
   "metadata": {},
   "outputs": [],
   "source": [
    "for i in range(1, 5): # range(1,5) だと 1,2,...,4\n",
    "    print(i)"
   ]
  },
  {
   "cell_type": "code",
   "execution_count": null,
   "metadata": {},
   "outputs": [],
   "source": [
    "for i in range(0, 10, 3): # range(0, 10, 3) だと 3 ごとに\n",
    "    print(i)"
   ]
  },
  {
   "cell_type": "code",
   "execution_count": null,
   "metadata": {},
   "outputs": [],
   "source": [
    "print(range(0,10) == [0,1,2,3,4,5,6,7,8,9]) # range はリストっぽいけどリストじゃない\n",
    "print(list(range(0,10)) == [0,1,2,3,4,5,6,7,8,9]) # リストに変換することもできる"
   ]
  },
  {
   "cell_type": "markdown",
   "metadata": {
    "slideshow": {
     "slide_type": "slide"
    }
   },
   "source": [
    "# while 文"
   ]
  },
  {
   "cell_type": "code",
   "execution_count": null,
   "metadata": {},
   "outputs": [],
   "source": [
    "i = 0\n",
    "while i < 10: # i<10 である限りインデント以下の操作を繰り返す\n",
    "    i = i + 1\n",
    "    print(i)"
   ]
  },
  {
   "cell_type": "markdown",
   "metadata": {
    "slideshow": {
     "slide_type": "slide"
    }
   },
   "source": [
    "# 演習3.2\n",
    "1. `max_int`  （0以上の整数） を入力とし、0 から `max_int`まで（`max_int`を含む）の偶数が昇順に並んだリストを出力する関数 `multiple_two` を完成させよ\n",
    "1. `max_int`  （0以上の整数） を入力とし、0 から `max_int`まで（`max_int`を含む）の3の倍数が昇順に並んだリストを出力する関数 `multiple_three` を完成させよ\n",
    "1. `max_int`  （0以上の整数） を入力とし、以下に定義する FizzBuzz ゲームの結果を `max_int` 回まで実行した結果からなるリストを出力する関数 `fizzbuzz` を完成させよ\n",
    "   - 1, 2, から順に数を言うゲームである\n",
    "   - 3 の倍数の時は数字の代わりに 'Fizz' と言う\n",
    "   - 5の倍数の時は数字の代わりに 'Buzz' と言う\n",
    "   - 15の倍数の時は数字の代わりに 'FizzBuzz' と言う（上2つよりこのルールが優先される）\n",
    "   - 例） `max_int=5` の時は `[1, 2, \"Fizz\", 4, \"Buzz\"]` というリストを返す"
   ]
  },
  {
   "cell_type": "markdown",
   "metadata": {
    "slideshow": {
     "slide_type": "skip"
    }
   },
   "source": [
    "1. FizzBuzz問題"
   ]
  },
  {
   "cell_type": "code",
   "execution_count": null,
   "metadata": {
    "slideshow": {
     "slide_type": "skip"
    }
   },
   "outputs": [],
   "source": [
    "for i in range(1,100):\n",
    "    if i % 3 == 0 and i % 5 != 0:\n",
    "        print('Fizz')\n",
    "    elif i % 3 != 0 and i % 5 == 0:\n",
    "        print('Buzz')\n",
    "    elif i % 3 == 0 and i % 5 == 0:\n",
    "        print('FizzBuzz')\n",
    "    else:\n",
    "        print(i)"
   ]
  },
  {
   "cell_type": "markdown",
   "metadata": {
    "slideshow": {
     "slide_type": "slide"
    }
   },
   "source": [
    "# その他の技法"
   ]
  },
  {
   "cell_type": "code",
   "execution_count": null,
   "metadata": {
    "slideshow": {
     "slide_type": "-"
    }
   },
   "outputs": [],
   "source": [
    "def add_y_ntimes(x, y, n):\n",
    "    if n == 1:\n",
    "        return x + y\n",
    "    return add_y_ntimes(x + y, y, n - 1) # 関数の中で自分を呼んでも良い（再帰的呼び出し）"
   ]
  },
  {
   "cell_type": "code",
   "execution_count": null,
   "metadata": {
    "slideshow": {
     "slide_type": "-"
    }
   },
   "outputs": [],
   "source": [
    "print(add_y_ntimes(10, 1, 1))\n",
    "print(add_y_ntimes(10, 1, 5))"
   ]
  },
  {
   "cell_type": "code",
   "execution_count": null,
   "metadata": {
    "slideshow": {
     "slide_type": "skip"
    }
   },
   "outputs": [],
   "source": [
    "# 何も返さなくても良い\n",
    "def fizz_buzz(max_iter):\n",
    "    for i in range(1, max_iter+1):\n",
    "        if i % 3 == 0 and i % 5 != 0:\n",
    "            print('Fizz')\n",
    "        elif i % 3 != 0 and i % 5 == 0:\n",
    "            print('Buzz')\n",
    "        elif i % 3 == 0 and i % 5 == 0:\n",
    "            print('FizzBuzz')\n",
    "        else:\n",
    "            print(i)"
   ]
  },
  {
   "cell_type": "code",
   "execution_count": null,
   "metadata": {
    "slideshow": {
     "slide_type": "skip"
    }
   },
   "outputs": [],
   "source": [
    "fizz_buzz(13)"
   ]
  },
  {
   "cell_type": "markdown",
   "metadata": {
    "slideshow": {
     "slide_type": "slide"
    }
   },
   "source": [
    "# 演習\n",
    "数値が入ったリストを入力したときに、小さい順に並べ直したリストを出力する関数を書け"
   ]
  },
  {
   "cell_type": "markdown",
   "metadata": {
    "slideshow": {
     "slide_type": "slide"
    }
   },
   "source": [
    "### ヒント\n",
    "クイックソート\n"
   ]
  },
  {
   "cell_type": "code",
   "execution_count": null,
   "metadata": {
    "slideshow": {
     "slide_type": "slide"
    }
   },
   "outputs": [],
   "source": [
    "def quicksort(x):\n",
    "    if len(x) < 2:\n",
    "        return x\n",
    "    else:\n",
    "        left_list = []\n",
    "        right_list = []\n",
    "        num_pivot = 0\n",
    "        pivot = x[0]\n",
    "        \n",
    "        for each_element in x:\n",
    "            if each_element < pivot:\n",
    "                left_list.append(each_element)\n",
    "            elif each_element > pivot:\n",
    "                right_list.append(each_element)\n",
    "            else:\n",
    "                num_pivot = num_pivot + 1\n",
    "        return quicksort(left_list) + num_pivot * [pivot] + quicksort(right_list)"
   ]
  },
  {
   "cell_type": "code",
   "execution_count": null,
   "metadata": {
    "slideshow": {
     "slide_type": "-"
    }
   },
   "outputs": [],
   "source": [
    "quicksort([-1, 2, 1, 1, 1,3])"
   ]
  },
  {
   "cell_type": "code",
   "execution_count": null,
   "metadata": {},
   "outputs": [],
   "source": [
    "quicksort([1,2,3,4,5]) == [1,2,3,4,5]"
   ]
  },
  {
   "cell_type": "markdown",
   "metadata": {
    "slideshow": {
     "slide_type": "slide"
    }
   },
   "source": [
    "# まとめ\n",
    "\n",
    "- 基本的なデータ型を触った\n",
    "    - 単体: 数値、文字列\n",
    "    - 複数の値を格納するもの: リスト、辞書、タプル\n",
    "- 数値計算をちょっとやってみた\n",
    "    - 丸め誤差には注意"
   ]
  },
  {
   "cell_type": "markdown",
   "metadata": {
    "slideshow": {
     "slide_type": "slide"
    }
   },
   "source": [
    "- 制御構文を触った\n",
    "    - for文、if文、while文\n",
    "    - FizzBuzz\n",
    "    - 一段インデントを下げる！\n",
    "- 関数を定義した\n",
    "    - よく使う作業をひとかたまりにする\n",
    "    - 一段インデントを下げる！"
   ]
  },
  {
   "cell_type": "markdown",
   "metadata": {
    "slideshow": {
     "slide_type": "slide"
    }
   },
   "source": [
    "# 質問"
   ]
  }
 ],
 "metadata": {
  "celltoolbar": "Slideshow",
  "kernelspec": {
   "display_name": "Python 3 (ipykernel)",
   "language": "python",
   "name": "python3"
  },
  "language_info": {
   "codemirror_mode": {
    "name": "ipython",
    "version": 3
   },
   "file_extension": ".py",
   "mimetype": "text/x-python",
   "name": "python",
   "nbconvert_exporter": "python",
   "pygments_lexer": "ipython3",
   "version": "3.9.12"
  },
  "livereveal": {
   "center": false,
   "controls": true,
   "progress": true,
   "scroll": true,
   "slideNumber": true,
   "start_slideshow_at": "selected",
   "transition": "slide"
  }
 },
 "nbformat": 4,
 "nbformat_minor": 2
}
