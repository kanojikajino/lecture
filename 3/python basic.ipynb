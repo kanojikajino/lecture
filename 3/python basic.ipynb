{
 "cells": [
  {
   "cell_type": "code",
   "execution_count": null,
   "metadata": {},
   "outputs": [],
   "source": [
    "%%HTML\n",
    "<link rel=\"stylesheet\" type=\"text/css\" href=\"../custom.css\">"
   ]
  },
  {
   "cell_type": "markdown",
   "metadata": {},
   "source": [
    "# 応用計量分析２（第3回）\n",
    "\n",
    "\n",
    "\n",
    "\n",
    "\n",
    "\n",
    "\n",
    "### 担当教員: 梶野 洸（かじの ひろし）\n"
   ]
  },
  {
   "cell_type": "markdown",
   "metadata": {},
   "source": [
    "# 本日の内容\n",
    "Python に慣れようの回\n",
    "\n",
    "- Python とは？\n",
    "- 環境構築\n",
    "- 基本的な文法\n",
    "- 数値計算"
   ]
  },
  {
   "cell_type": "markdown",
   "metadata": {},
   "source": [
    "# Python とは？\n",
    "\n",
    "- プログラミング言語の一つ\n",
    "- 近年よく用いられる\n",
    "    - 文法がわりと簡単\n",
    "    - データ解析に関するライブラリが揃っている\n",
    "    - 特にディープラーニングはほぼ Python"
   ]
  },
  {
   "cell_type": "markdown",
   "metadata": {},
   "source": [
    "# Python のライブラリ (1/2)\n",
    "\n",
    "- `numpy`, `scipy`\n",
    "    - 科学計算ライブラリ\n",
    "    - 行列計算、統計処理など\n",
    "    - python ブームの火付け役？\n",
    "- `pandas`\n",
    "    - 時系列解析ライブラリ\n",
    "    - R みたいなやつ"
   ]
  },
  {
   "cell_type": "markdown",
   "metadata": {},
   "source": [
    "# Python のライブラリ (2/2)\n",
    "\n",
    "- `keras`, `pytorch`, `chainer`\n",
    "    - ディープラーニング用ライブラリ\n",
    "    - ネットワークを組み替えるのが容易\n",
    "    - ディープラーニングやるならこれらを使う\n",
    "- `matplotlib`, `bokeh`, `plotly`\n",
    "    - グラフを描くライブラリ"
   ]
  },
  {
   "cell_type": "markdown",
   "metadata": {},
   "source": [
    "# 環境構築\n",
    "どのようにコードを書いて実行するか\n",
    "\n",
    "- `jupyter notebook` の利用を想定\n",
    "    - コードの実行が簡単\n",
    "    - 結果が見やすい\n",
    "    - 起動の仕方は第一回の宿題参照"
   ]
  },
  {
   "cell_type": "markdown",
   "metadata": {},
   "source": [
    "# 演習\n",
    "Jupyter notebook を起動してください"
   ]
  },
  {
   "cell_type": "markdown",
   "metadata": {},
   "source": [
    "# 基本的な文法\n",
    "\n",
    "Hello, world!"
   ]
  },
  {
   "cell_type": "code",
   "execution_count": null,
   "metadata": {},
   "outputs": [],
   "source": [
    "print(\"Hello, world!\")"
   ]
  },
  {
   "cell_type": "markdown",
   "metadata": {},
   "source": [
    "# 基本的な文法\n",
    "困ったら `print`"
   ]
  },
  {
   "cell_type": "code",
   "execution_count": null,
   "metadata": {},
   "outputs": [],
   "source": [
    "print(1)"
   ]
  },
  {
   "cell_type": "code",
   "execution_count": null,
   "metadata": {},
   "outputs": [],
   "source": [
    "print(1 + 1)"
   ]
  },
  {
   "cell_type": "code",
   "execution_count": null,
   "metadata": {},
   "outputs": [],
   "source": [
    "x = 1\n",
    "print(x)"
   ]
  },
  {
   "cell_type": "code",
   "execution_count": null,
   "metadata": {},
   "outputs": [],
   "source": [
    "x = 1\n",
    "x # jupyter notebook では最後の変数の中身が勝手に表示される"
   ]
  },
  {
   "cell_type": "markdown",
   "metadata": {},
   "source": [
    "# 基本的な文法\n",
    "四則演算"
   ]
  },
  {
   "cell_type": "markdown",
   "metadata": {},
   "source": [
    "色々演算が定義されている"
   ]
  },
  {
   "cell_type": "code",
   "execution_count": null,
   "metadata": {},
   "outputs": [],
   "source": [
    "1 + 1 # 整数同士の足し算"
   ]
  },
  {
   "cell_type": "code",
   "execution_count": null,
   "metadata": {},
   "outputs": [],
   "source": [
    "1.0 + 1.0 # 実数同士の足し算"
   ]
  },
  {
   "cell_type": "code",
   "execution_count": null,
   "metadata": {},
   "outputs": [],
   "source": [
    "3 - 2 # 整数同士の引き算"
   ]
  },
  {
   "cell_type": "code",
   "execution_count": null,
   "metadata": {},
   "outputs": [],
   "source": [
    "3 * 2 # 整数同士の掛け算"
   ]
  },
  {
   "cell_type": "code",
   "execution_count": null,
   "metadata": {},
   "outputs": [],
   "source": [
    "5 / 3 # 割り算（Python3の場合、スラッシュで普通の割り算）"
   ]
  },
  {
   "cell_type": "code",
   "execution_count": null,
   "metadata": {},
   "outputs": [],
   "source": [
    "5.0 / 3.0 # 実数同士の割り算"
   ]
  },
  {
   "cell_type": "code",
   "execution_count": null,
   "metadata": {},
   "outputs": [],
   "source": [
    "5 // 3 # 整数同士の割り算で商を知りたい場合"
   ]
  },
  {
   "cell_type": "code",
   "execution_count": null,
   "metadata": {},
   "outputs": [],
   "source": [
    "10 % 3 # 整数同士の割り算で余りを知りたい場合"
   ]
  },
  {
   "cell_type": "code",
   "execution_count": null,
   "metadata": {},
   "outputs": [],
   "source": [
    "2 ** 10 # 累乗は **"
   ]
  },
  {
   "cell_type": "markdown",
   "metadata": {},
   "source": [
    "計算順序は数学と同様"
   ]
  },
  {
   "cell_type": "code",
   "execution_count": null,
   "metadata": {},
   "outputs": [],
   "source": [
    "100 + 10 / 5 # 割り算は足し算より優先される"
   ]
  },
  {
   "cell_type": "code",
   "execution_count": null,
   "metadata": {},
   "outputs": [],
   "source": [
    "(100 + 10) / 5 # カッコを使うと優先される演算を決められる"
   ]
  },
  {
   "cell_type": "markdown",
   "metadata": {},
   "source": [
    "文字列と数字は異なるものとして扱われる"
   ]
  },
  {
   "cell_type": "code",
   "execution_count": null,
   "metadata": {},
   "outputs": [],
   "source": [
    "'Hello, world!' # ダブルコーテーション、シングルコーテーションで括ると文字列になる"
   ]
  },
  {
   "cell_type": "code",
   "execution_count": null,
   "metadata": {},
   "outputs": [],
   "source": [
    "'112313' # 整数(int)ではなく文字列(str)になる"
   ]
  },
  {
   "cell_type": "code",
   "execution_count": null,
   "metadata": {},
   "outputs": [],
   "source": [
    "'112313' + 5 # str と int の足し算はできない"
   ]
  },
  {
   "cell_type": "code",
   "execution_count": null,
   "metadata": {},
   "outputs": [],
   "source": [
    "'112313' + '112313' # str 同士の足し算は、文字列の連結になる"
   ]
  },
  {
   "cell_type": "markdown",
   "metadata": {},
   "source": [
    "# 演習\n",
    "1. 税抜価格1980円の商品の税込価格は？（消費税8%）\n",
    "1. ${2^{2}}^{2}$ を計算せよ\n",
    "1. 好きな $x\\in\\mathbb{R}_+$ で $(1 + x)^{1/x}$ を計算せよ\n",
    "    - ちなみに $e=\\lim_{x \\to 0} (1+x)^{1/x} = 2.718281828459045...$"
   ]
  },
  {
   "cell_type": "markdown",
   "metadata": {},
   "source": [
    "# 演習（答え）"
   ]
  },
  {
   "cell_type": "code",
   "execution_count": null,
   "metadata": {},
   "outputs": [],
   "source": [
    "1980 * 1.08"
   ]
  },
  {
   "cell_type": "code",
   "execution_count": null,
   "metadata": {},
   "outputs": [],
   "source": [
    "2**(2**2)"
   ]
  },
  {
   "cell_type": "code",
   "execution_count": null,
   "metadata": {},
   "outputs": [],
   "source": [
    "(1 + 0.000000001) ** (1 / 0.000000001)"
   ]
  },
  {
   "cell_type": "code",
   "execution_count": null,
   "metadata": {},
   "outputs": [],
   "source": [
    "(1 + 0.0000000000001) ** (1 / 0.0000000000001)"
   ]
  },
  {
   "cell_type": "code",
   "execution_count": null,
   "metadata": {},
   "outputs": [],
   "source": [
    "(1 + 0.000000000000001) ** (1 / 0.000000000000001)"
   ]
  },
  {
   "cell_type": "code",
   "execution_count": null,
   "metadata": {},
   "outputs": [],
   "source": [
    "(1 + 0.0000000000000001) ** (1 / 0.0000000000000001)"
   ]
  },
  {
   "cell_type": "markdown",
   "metadata": {},
   "source": [
    "# 演習（解説）\n",
    "- コンピュータでは実数を近似的にしか扱えない\n",
    "    - `大きい数 + 非常に小さい数` では、非常に小さい数が無視される（丸め誤差）\n",
    "    - 上の例では $1 + 0.0000000000000001 = 1$\n",
    "- 計算方法の工夫が必要\n",
    "    - $x$ を小さくした極限で変な値になるのは困る"
   ]
  },
  {
   "cell_type": "markdown",
   "metadata": {},
   "source": [
    "# 変数\n",
    "数値、文字列、リストなどを記憶しておける"
   ]
  },
  {
   "cell_type": "code",
   "execution_count": null,
   "metadata": {},
   "outputs": [],
   "source": [
    "x = 1 # x に 1 を代入する\n",
    "print(x)"
   ]
  },
  {
   "cell_type": "code",
   "execution_count": null,
   "metadata": {},
   "outputs": [],
   "source": [
    "x = 1\n",
    "x = 2\n",
    "print(x)"
   ]
  },
  {
   "cell_type": "code",
   "execution_count": null,
   "metadata": {},
   "outputs": [],
   "source": [
    "x = 1\n",
    "y = 4\n",
    "print(x * y)"
   ]
  },
  {
   "cell_type": "code",
   "execution_count": null,
   "metadata": {},
   "outputs": [],
   "source": [
    "x = 0\n",
    "x = x + 1\n",
    "print(x)"
   ]
  },
  {
   "cell_type": "markdown",
   "metadata": {},
   "source": [
    "# リスト\n",
    "複数のオブジェクトをひとまとめにする"
   ]
  },
  {
   "cell_type": "code",
   "execution_count": null,
   "metadata": {},
   "outputs": [],
   "source": [
    "[1, 2, 6, 4, 8] # 大カッコでリストを宣言する"
   ]
  },
  {
   "cell_type": "code",
   "execution_count": null,
   "metadata": {},
   "outputs": [],
   "source": [
    "x = ['yay!', 1, 3.0, [4, 0.1, 'yay!']] # リストの中身は、数値・文字列・リストなど"
   ]
  },
  {
   "cell_type": "code",
   "execution_count": null,
   "metadata": {},
   "outputs": [],
   "source": [
    "#x[3] # 0番目の要素を取り出す\n",
    "print(x[0])"
   ]
  },
  {
   "cell_type": "code",
   "execution_count": null,
   "metadata": {},
   "outputs": [],
   "source": [
    "x[0 : 3] # 0番目から2番目までの要素を取り出す"
   ]
  },
  {
   "cell_type": "markdown",
   "metadata": {},
   "source": [
    "# タプル\n",
    "中身が変更できないリストみたいなもの"
   ]
  },
  {
   "cell_type": "code",
   "execution_count": null,
   "metadata": {},
   "outputs": [],
   "source": [
    "x = (1,2,3) # ふつうの括弧でくくるとタプル"
   ]
  },
  {
   "cell_type": "code",
   "execution_count": null,
   "metadata": {},
   "outputs": [],
   "source": [
    "x[0] # リストみたいに中の要素にアクセスできる"
   ]
  },
  {
   "cell_type": "code",
   "execution_count": null,
   "metadata": {},
   "outputs": [],
   "source": [
    "x[0] = 100 # 一度作ったら変更できない"
   ]
  },
  {
   "cell_type": "markdown",
   "metadata": {},
   "source": [
    "# 辞書\n",
    "数字以外のもので値を取り出せる"
   ]
  },
  {
   "cell_type": "code",
   "execution_count": null,
   "metadata": {},
   "outputs": [],
   "source": [
    "x = {'W': 1, 'b': -0.1} # 中括弧で囲む＆ key: value と書くと辞書ができる"
   ]
  },
  {
   "cell_type": "code",
   "execution_count": null,
   "metadata": {},
   "outputs": [],
   "source": [
    "type(x)"
   ]
  },
  {
   "cell_type": "code",
   "execution_count": null,
   "metadata": {},
   "outputs": [],
   "source": [
    "x['W'] # キーを使ってそれに対応する値を取り出す。キーは文字列でもよい。"
   ]
  },
  {
   "cell_type": "code",
   "execution_count": null,
   "metadata": {},
   "outputs": [],
   "source": [
    "x[(1, 2)] = 3 # このように新しい要素を追加できる。タプルをキーにすることもできる\n",
    "x"
   ]
  },
  {
   "cell_type": "code",
   "execution_count": null,
   "metadata": {},
   "outputs": [],
   "source": [
    "x[[1,2]] = 3 # リストはキーにできない"
   ]
  },
  {
   "cell_type": "markdown",
   "metadata": {},
   "source": [
    "# ここまでのまとめ\n",
    "- 数値、文字列、リスト、タプル、辞書など基本的なオブジェクトを触った\n",
    "    - 複数の値を持っておきたいとき、基本はリストか辞書\n",
    "    - 整数以外のキーで要素を取り出したい場合は辞書\n",
    "- 数値計算をすこしやった\n",
    "- 大体のものは変数に入れておける"
   ]
  },
  {
   "cell_type": "markdown",
   "metadata": {},
   "source": [
    "# ここから\n",
    "制御構文に慣れ親しむ\n",
    "- if 文\n",
    "- for 文\n",
    "- while 文"
   ]
  },
  {
   "cell_type": "markdown",
   "metadata": {},
   "source": [
    "# 条件・if文\n",
    "ある条件が満たされたときだけ実行される"
   ]
  },
  {
   "cell_type": "code",
   "execution_count": null,
   "metadata": {},
   "outputs": [],
   "source": [
    "x = 1\n",
    "print(x == 1) # x が 1 と等しいとき True\n",
    "print(x != 1) # x が 1 ではないとき True\n",
    "print(x != 0) # x が 0 ではないとき True"
   ]
  },
  {
   "cell_type": "code",
   "execution_count": null,
   "metadata": {},
   "outputs": [],
   "source": [
    "x = 0\n",
    "# if (True/Falseを返す条件):\n",
    "#    True ならば実行するコード（Falseの時は実行されない）\n",
    "if x == 0: # もし x が 0 と等しいならば、以下を実行する\n",
    "    print('yay')\n",
    "    print('hello world')\n",
    "print('yay!!!!!!!!!')"
   ]
  },
  {
   "cell_type": "code",
   "execution_count": null,
   "metadata": {},
   "outputs": [],
   "source": [
    "x = [0,0]\n",
    "if x[0] == 0: # if (条件): が if 文\n",
    "    print('yay!') # Python では必ず <tab> を打ってインデントを下げる！\n",
    "    if x[1] == 1: # if 文の中に if 文を入れられる\n",
    "        print('yayyay')\n",
    "print('hello') # インデントが下がっていないので、ここからは if 文の外"
   ]
  },
  {
   "cell_type": "code",
   "execution_count": null,
   "metadata": {},
   "outputs": [],
   "source": [
    "x = 1\n",
    "if x == 0: # if (条件): が if 文\n",
    "print('yay!') # かならず <tab> を打ってインデントを下げる！"
   ]
  },
  {
   "cell_type": "code",
   "execution_count": null,
   "metadata": {},
   "outputs": [],
   "source": [
    "x = 1\n",
    "if x == 0:\n",
    "    print('x=0')\n",
    "else: # if 文の条件がFalseの場合に実行される\n",
    "    print('x!=0')"
   ]
  },
  {
   "cell_type": "code",
   "execution_count": null,
   "metadata": {},
   "outputs": [],
   "source": [
    "x = 1\n",
    "if x == 0:\n",
    "    print('x=0')\n",
    "elif x == 1:\n",
    "    print('x=1')\n",
    "else:\n",
    "    print('x!=0 and x!=1')"
   ]
  },
  {
   "cell_type": "markdown",
   "metadata": {},
   "source": [
    "# for 文"
   ]
  },
  {
   "cell_type": "code",
   "execution_count": null,
   "metadata": {},
   "outputs": [],
   "source": [
    "for i in [0, 1, 2, 3, 4]: # for <変数名> in <なんかリスト的なもの>:\n",
    "    print(i)"
   ]
  },
  {
   "cell_type": "code",
   "execution_count": null,
   "metadata": {},
   "outputs": [],
   "source": [
    "for i in range(5): # range(5) だと 0,1,...,4\n",
    "    print(i)        # for 文内はインデントを下げる"
   ]
  },
  {
   "cell_type": "code",
   "execution_count": null,
   "metadata": {},
   "outputs": [],
   "source": [
    "for i in range(5): # range(5) だと 0,1,...,4\n",
    "print(i)"
   ]
  },
  {
   "cell_type": "code",
   "execution_count": null,
   "metadata": {},
   "outputs": [],
   "source": [
    "for i in range(1, 5): # range(1,5) だと 1,2,...,4\n",
    "    print(i)"
   ]
  },
  {
   "cell_type": "code",
   "execution_count": null,
   "metadata": {},
   "outputs": [],
   "source": [
    "for i in range(0, 10, 3): # range(0, 10, 3) だと 3 ごとに\n",
    "    print(i)"
   ]
  },
  {
   "cell_type": "code",
   "execution_count": null,
   "metadata": {},
   "outputs": [],
   "source": [
    "print(range(0,10) == [0,1,2,3,4,5,6,7,8,9]) # range はリストっぽいけどリストじゃない\n",
    "print(list(range(0,10)) == [0,1,2,3,4,5,6,7,8,9]) # リストに変換することもできる"
   ]
  },
  {
   "cell_type": "markdown",
   "metadata": {},
   "source": [
    "# while 文"
   ]
  },
  {
   "cell_type": "code",
   "execution_count": null,
   "metadata": {},
   "outputs": [],
   "source": [
    "i = 0\n",
    "while i < 10: # i<10 である限りインデント以下の操作を繰り返す\n",
    "    i = i + 1\n",
    "    print(i)"
   ]
  },
  {
   "cell_type": "markdown",
   "metadata": {},
   "source": [
    "# 演習\n",
    "- $0$から$99$までの偶数を表示せよ\n",
    "- $0$から$99$までの3の倍数を表示せよ\n",
    "- Fizz Buzz 問題($99$まで)\n",
    "    - 1,2,...から順に数を表示したい\n",
    "    - 3の倍数のときは数字の代わりに 'Fizz' と表示\n",
    "    - 5の倍数のときは数字の代わりに 'Buzz' と表示\n",
    "    - 15の倍数のときは数字の代わりに 'FizzBuzz' と表示（上2つよりこれが優先される）\n",
    "    - 例: 1,2,Fizz,4,Buzz,...,13,14,FizzBuzz,16,...\n",
    "    - ヒント: `range(1,100)` は$1$から$99$まで"
   ]
  },
  {
   "cell_type": "markdown",
   "metadata": {},
   "source": [
    "1.$0$から$99$までの偶数を表示せよ"
   ]
  },
  {
   "cell_type": "code",
   "execution_count": null,
   "metadata": {},
   "outputs": [],
   "source": [
    "for i in range(100):\n",
    "    if i % 2 == 0:\n",
    "        print(i)"
   ]
  },
  {
   "cell_type": "code",
   "execution_count": null,
   "metadata": {},
   "outputs": [],
   "source": [
    "for i in range(0, 100, 2):\n",
    "    print(i)"
   ]
  },
  {
   "cell_type": "markdown",
   "metadata": {},
   "source": [
    "1. $0$から$99$までの3の倍数を表示せよ"
   ]
  },
  {
   "cell_type": "code",
   "execution_count": null,
   "metadata": {},
   "outputs": [],
   "source": [
    "for i in range(100):\n",
    "    if i % 3 == 0:\n",
    "        print(i)"
   ]
  },
  {
   "cell_type": "markdown",
   "metadata": {},
   "source": [
    "1. FizzBuzz問題"
   ]
  },
  {
   "cell_type": "code",
   "execution_count": null,
   "metadata": {},
   "outputs": [],
   "source": [
    "for i in range(1,100):\n",
    "    if i % 3 == 0 and i % 5 != 0:\n",
    "        print('Fizz')\n",
    "    elif i % 3 != 0 and i % 5 == 0:\n",
    "        print('Buzz')\n",
    "    elif i % 3 == 0 and i % 5 == 0:\n",
    "        print('FizzBuzz')\n",
    "    else:\n",
    "        print(i)"
   ]
  },
  {
   "cell_type": "markdown",
   "metadata": {},
   "source": [
    "# 関数\n",
    "何度も使う手続きを関数として定義しておける\n",
    "\n",
    "関数: 入出力関係を表したもの\n",
    "\n",
    "- 入力 = 引数\n",
    "- 出力 = 返り値\n",
    "\n",
    "と呼ぶ"
   ]
  },
  {
   "cell_type": "markdown",
   "metadata": {},
   "source": [
    "# 関数の作りかた"
   ]
  },
  {
   "cell_type": "code",
   "execution_count": null,
   "metadata": {},
   "outputs": [],
   "source": [
    "def increment_one(x0): # def 関数名(引数):\n",
    "    return x0 + 1\n",
    "increment_one(x0=0) # 引数の x という変数に 0 を代入して実行"
   ]
  },
  {
   "cell_type": "code",
   "execution_count": null,
   "metadata": {},
   "outputs": [],
   "source": [
    "print(x0) # 上の関数の引数で x0 という変数が定義されていたが、それは関数の外では使えない"
   ]
  },
  {
   "cell_type": "markdown",
   "metadata": {},
   "source": [
    "- 関数名: `increment_one`（好きな名前を決める）\n",
    "- 引数: `x`\n",
    "    - 引数は **関数内のみ** で使える変数となる\n",
    "    - 変数には最悪何が入ってくるかはわからないが、関数設計時には何を入力したらいいかの想定はする\n",
    "- 返り値: `x + 1`"
   ]
  },
  {
   "cell_type": "markdown",
   "metadata": {},
   "source": [
    "# 演習\n",
    "\n",
    "1. 二つの数字を引数として受け取って、その和を返す関数を書け\n",
    "1. 3つの数字を引数として受け取って、最大のものを返す関数を書け"
   ]
  },
  {
   "cell_type": "code",
   "execution_count": null,
   "metadata": {},
   "outputs": [],
   "source": [
    "# 引数 = x, y, 返り値 = z = x + y\n",
    "def add(x, y):\n",
    "    return x + y"
   ]
  },
  {
   "cell_type": "code",
   "execution_count": null,
   "metadata": {},
   "outputs": [],
   "source": [
    "print(add(5, 10))"
   ]
  },
  {
   "cell_type": "code",
   "execution_count": null,
   "metadata": {},
   "outputs": [],
   "source": [
    "def get_max(x, y, z):\n",
    "    return max(x, y, z)"
   ]
  },
  {
   "cell_type": "code",
   "execution_count": null,
   "metadata": {},
   "outputs": [],
   "source": [
    "get_max(1,2,3)"
   ]
  },
  {
   "cell_type": "markdown",
   "metadata": {},
   "source": [
    "# その他の技法"
   ]
  },
  {
   "cell_type": "code",
   "execution_count": null,
   "metadata": {},
   "outputs": [],
   "source": [
    "def add_y_ntimes(x, y, n):\n",
    "    if n == 1:\n",
    "        return x + y\n",
    "    return add_y_ntimes(x + y, y, n - 1) # 関数の中で自分を呼んでも良い（再帰的呼び出し）"
   ]
  },
  {
   "cell_type": "code",
   "execution_count": null,
   "metadata": {},
   "outputs": [],
   "source": [
    "print(add_y_ntimes(10, 1, 1))\n",
    "print(add_y_ntimes(10, 1, 5))"
   ]
  },
  {
   "cell_type": "code",
   "execution_count": null,
   "metadata": {},
   "outputs": [],
   "source": [
    "# 何も返さなくても良い\n",
    "def fizz_buzz(max_iter):\n",
    "    for i in range(1, max_iter+1):\n",
    "        if i % 3 == 0 and i % 5 != 0:\n",
    "            print('Fizz')\n",
    "        elif i % 3 != 0 and i % 5 == 0:\n",
    "            print('Buzz')\n",
    "        elif i % 3 == 0 and i % 5 == 0:\n",
    "            print('FizzBuzz')\n",
    "        else:\n",
    "            print(i)"
   ]
  },
  {
   "cell_type": "code",
   "execution_count": null,
   "metadata": {},
   "outputs": [],
   "source": [
    "fizz_buzz(13)"
   ]
  },
  {
   "cell_type": "markdown",
   "metadata": {},
   "source": [
    "# 演習\n",
    "数値が入ったリストを入力したときに、小さい順に並べ直したリストを出力する関数を書け"
   ]
  },
  {
   "cell_type": "markdown",
   "metadata": {},
   "source": [
    "### ヒント\n",
    "クイックソート\n"
   ]
  },
  {
   "cell_type": "code",
   "execution_count": null,
   "metadata": {},
   "outputs": [],
   "source": [
    "def quicksort(x):\n",
    "    if len(x) < 2:\n",
    "        return x\n",
    "    else:\n",
    "        left_list = []\n",
    "        right_list = []\n",
    "        num_pivot = 0\n",
    "        pivot = x[0]\n",
    "        \n",
    "        for each_element in x:\n",
    "            if each_element < pivot:\n",
    "                left_list.append(each_element)\n",
    "            elif each_element > pivot:\n",
    "                right_list.append(each_element)\n",
    "            else:\n",
    "                num_pivot = num_pivot + 1\n",
    "        return quicksort(left_list) + num_pivot * [pivot] + quicksort(right_list)"
   ]
  },
  {
   "cell_type": "code",
   "execution_count": null,
   "metadata": {},
   "outputs": [],
   "source": [
    "quicksort([-1, 2, 1, 1, 1,3])"
   ]
  },
  {
   "cell_type": "code",
   "execution_count": null,
   "metadata": {},
   "outputs": [],
   "source": [
    "quicksort([1,2,3,4,5]) == [1,2,3,4,5]"
   ]
  },
  {
   "cell_type": "markdown",
   "metadata": {},
   "source": [
    "# まとめ\n",
    "\n",
    "- 基本的なデータ型を触った\n",
    "    - 単体: 数値、文字列\n",
    "    - 複数の値を格納するもの: リスト、辞書、タプル\n",
    "- 数値計算をちょっとやってみた\n",
    "    - 丸め誤差には注意"
   ]
  },
  {
   "cell_type": "markdown",
   "metadata": {},
   "source": [
    "- 制御構文を触った\n",
    "    - for文、if文、while文\n",
    "    - FizzBuzz\n",
    "    - 一段インデントを下げる！\n",
    "- 関数を定義した\n",
    "    - よく使う作業をひとかたまりにする\n",
    "    - 一段インデントを下げる！"
   ]
  },
  {
   "cell_type": "markdown",
   "metadata": {},
   "source": [
    "# 質問"
   ]
  }
 ],
 "metadata": {
  "language_info": {
   "name": "python",
   "pygments_lexer": "ipython3"
  }
 },
 "nbformat": 4,
 "nbformat_minor": 2
}
