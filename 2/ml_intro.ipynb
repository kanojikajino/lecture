{
 "cells": [
  {
   "cell_type": "code",
   "execution_count": 1,
   "metadata": {
    "slideshow": {
     "slide_type": "skip"
    }
   },
   "outputs": [
    {
     "data": {
      "text/html": [
       "<link rel=\"stylesheet\" type=\"text/css\" href=\"../custom.css\">\n"
      ],
      "text/plain": [
       "<IPython.core.display.HTML object>"
      ]
     },
     "metadata": {},
     "output_type": "display_data"
    }
   ],
   "source": [
    "%%HTML\n",
    "<link rel=\"stylesheet\" type=\"text/css\" href=\"../custom.css\">"
   ]
  },
  {
   "cell_type": "markdown",
   "metadata": {
    "slideshow": {
     "slide_type": "slide"
    }
   },
   "source": [
    "# 応用計量分析２（第2回）\n",
    "\n",
    "\n",
    "\n",
    "\n",
    "\n",
    "\n",
    "\n",
    "### 担当教員: 梶野 洸（かじの ひろし）\n"
   ]
  },
  {
   "cell_type": "markdown",
   "metadata": {
    "slideshow": {
     "slide_type": "slide"
    }
   },
   "source": [
    "# 今日の内容\n",
    "機械学習の概要を説明します。\n",
    "\n",
    "- 機械学習・人工知能の歴史\n",
    "- 機械学習の区分\n",
    "- 機械学習の定式化\n",
    "- 機械学習の応用"
   ]
  },
  {
   "cell_type": "markdown",
   "metadata": {
    "slideshow": {
     "slide_type": "slide"
    }
   },
   "source": [
    "# 人工知能の歴史 (1/3)\n",
    "\n",
    "<img src=\"figs/ai_history/Slide1.png\" width=720px>\n",
    "\n",
    "[ELIZA](https://www.youtube.com/watch?v=CJWOOTMt4ko)\n",
    "[SHRDLU](http://hci.stanford.edu/winograd/shrdlu/)"
   ]
  },
  {
   "cell_type": "markdown",
   "metadata": {
    "slideshow": {
     "slide_type": "slide"
    }
   },
   "source": [
    "# 人工知能の歴史 (2/3)\n",
    "\n",
    "<img src=\"figs/ai_history/Slide2.png\" width=720px>"
   ]
  },
  {
   "cell_type": "markdown",
   "metadata": {
    "slideshow": {
     "slide_type": "slide"
    }
   },
   "source": [
    "# 人工知能の歴史 (3/3)\n",
    "\n",
    "<img src=\"figs/ai_history/Slide3.png\" width=720px>"
   ]
  },
  {
   "cell_type": "markdown",
   "metadata": {
    "slideshow": {
     "slide_type": "slide"
    }
   },
   "source": [
    "# 人工知能の歴史（まとめ）\n",
    "\n",
    "- 人工知能は何度もブームになっては冬の時代を迎えている\n",
    "- ニューラルネットは何度も死んでは生き返っている\n",
    "- 論理を用いたもの、統計を用いたものなど、様々な流派がある\n",
    "    - それぞれ利点・欠点がある\n",
    "    - それぞれ単体では人工知能は実現できないのかも？\n",
    "- この授業では統計的機械学習を取り扱います"
   ]
  },
  {
   "cell_type": "markdown",
   "metadata": {
    "slideshow": {
     "slide_type": "slide"
    }
   },
   "source": [
    "# 統計的機械学習の枠組み\n",
    "データが従う規則（＝確率分布、関数）を有限個のデータから推定する問題\n",
    "\n",
    "- サンプル: $\\mathcal{D} = \\{z_n\\in\\mathcal{Z} \\mid n=1,\\dots,N\\}$\n",
    "    - 仮定: $z_n \\overset{\\mathrm{iid}}{\\sim} p^\\star(z)$ ($p^\\star$: 未知の確率分布)\n",
    "- パラメトリックモデル $\\mathcal{M}=\\{p(z ; \\theta) \\mid \\theta\\in\\Theta\\}$ の中から $p^\\star$ に近いものをサンプルから推定する"
   ]
  },
  {
   "cell_type": "markdown",
   "metadata": {
    "slideshow": {
     "slide_type": "slide"
    }
   },
   "source": [
    "# 例1: 画像認識\n",
    "画像に猫がいるかいないか判別する規則をデータから推定したい\n",
    "\n",
    "<img src=\"figs/examples/1.png\" width=\"640px\">\n",
    "\n",
    "(画像は ImageNet より引用)"
   ]
  },
  {
   "cell_type": "markdown",
   "metadata": {
    "slideshow": {
     "slide_type": "slide"
    }
   },
   "source": [
    "# 例1: 画像認識\n",
    "画像に猫がいるかいないか判別する規則をデータから推定したい\n",
    "\n",
    "- $z_n=(x_n, y_n)$: \n",
    "    - $x_n\\in\\mathbb{R}^{H\\times W\\times C}$ は画像\n",
    "    - $y_n\\in\\{0,1\\}$ はラベル(0=猫がいない, 1=猫がいる)\n",
    "- $p(y\\mid x)$ を推定したい"
   ]
  },
  {
   "cell_type": "markdown",
   "metadata": {
    "slideshow": {
     "slide_type": "slide"
    }
   },
   "source": [
    "# 例2: 株価予測\n",
    "今日までの株価データから明日の株価を予測したい\n",
    "\n",
    "<img src=\"figs/examples/2.png\" width=\"1024px\">"
   ]
  },
  {
   "cell_type": "markdown",
   "metadata": {
    "slideshow": {
     "slide_type": "slide"
    }
   },
   "source": [
    "# 例2: 株価予測\n",
    "今日までの株価データから明日の株価を予測したい\n",
    "\n",
    "- $z_n=(\\mathcal{F}_n, x_{n+1})$\n",
    "    - $x_n$: $n$日目の株価\n",
    "    - $\\mathcal{F}_n = \\{x_1,x_2,\\dots,x_n\\}$: $n$日目までの株価\n",
    "- $p(x_{n+1} \\mid \\mathcal{F}_n)$ を推定したい"
   ]
  },
  {
   "cell_type": "markdown",
   "metadata": {
    "slideshow": {
     "slide_type": "slide"
    }
   },
   "source": [
    "# 例3: 画像生成\n",
    "特定のカテゴリの画像を色々生成したい\n",
    "\n",
    "- $z_n = (x_n, y_n)$:\n",
    "    - $x_n\\in\\mathbb{R}^{H\\times W\\times C}$ は画像\n",
    "    - $y_n\\in\\{1,2,\\dots,C\\}$ はカテゴリ\n",
    "        - カテゴリ1: 部屋の画像\n",
    "        - カテゴリ2: 猫の画像\n",
    "        - カテゴリ3: セレブの画像...\n",
    "- $p(x\\mid y)$ を推定したい\n",
    "    - 最新の手法のひとつ: [Glow](https://blog.openai.com/glow/)\n",
    "    - ひとつのカテゴリでよい場合は $p(x)$ の推定"
   ]
  },
  {
   "cell_type": "markdown",
   "metadata": {
    "slideshow": {
     "slide_type": "slide"
    }
   },
   "source": [
    "# 例4: 化学物質生成\n",
    "特定の物性の化学物質を色々生成したい\n",
    "\n",
    "- $z_n = (x_n, y_n)$:\n",
    "    - $x_n\\in\\mathcal{G}$ は構造式（グラフ形式）\n",
    "    - $y_n\\in\\mathcal{P}$ は物性\n",
    "        - 水への溶けやすさ\n",
    "        - 特定のタンパク質への結合しやすさ\n",
    "- $p(x\\mid y)$ を推定したい"
   ]
  },
  {
   "cell_type": "markdown",
   "metadata": {
    "slideshow": {
     "slide_type": "slide"
    }
   },
   "source": [
    "# 例5: データの理解\n",
    "\n",
    "- $z_n=(x_n, y_n)$:\n",
    "    - $x_n$: 観測データ\n",
    "    - $y_n\\in\\{1,\\dots,C\\}$: __未観測データ__\n",
    "- $p(y \\mid x)$ を推定したい\n",
    "   - 推定した $y$ を用いてラベルなしでデータを分類できる"
   ]
  },
  {
   "cell_type": "markdown",
   "metadata": {
    "slideshow": {
     "slide_type": "slide"
    }
   },
   "source": [
    "# まとめ\n",
    "\n",
    "- 様々な問題は確率分布の推定に帰着される\n",
    "- 主に以下の二種類に分類される\n",
    "    - $p(y \\mid x)$ を推定\n",
    "    - $p(x \\mid y)$ や $p(x)$ を推定\n",
    "    - $y$より$x$の方が「複雑」とする\n",
    "    "
   ]
  },
  {
   "cell_type": "markdown",
   "metadata": {
    "slideshow": {
     "slide_type": "slide"
    }
   },
   "source": [
    "# 機械学習の分類\n",
    "\n",
    "- __教師あり学習__ と __教師なし学習__ が代表的な２つの問題\n",
    "- 他にもたくさんの問題があるし、はっきりと分類できるとは限らない\n",
    "    - 半教師あり学習\n",
    "    - 異常検知・変化検知\n",
    "    - 強化学習\n",
    "    - etc."
   ]
  },
  {
   "cell_type": "markdown",
   "metadata": {
    "slideshow": {
     "slide_type": "slide"
    }
   },
   "source": [
    "# 1. 教師あり学習\n",
    "- 入力: データがペア$(x,y)$で与えられている\n",
    "    - $x$ は簡単に手に入るもの\n",
    "    - $y$ は$x$の属性で、簡単には手に入らないもの\n",
    "        - 人間が見て判断するもの\n",
    "        - 実験で測定した結果\n",
    "        - 明日にならないとわからないこと\n",
    "- 目的: $p(y \\mid x)$ を推定したい"
   ]
  },
  {
   "cell_type": "markdown",
   "metadata": {
    "slideshow": {
     "slide_type": "slide"
    }
   },
   "source": [
    "# 1. 教師あり学習\n",
    "\n",
    "- 利点: 予測結果がわかりやすい\n",
    "    - $y=0$ ならこの画像には猫がいない\n",
    "    - $y=1$ ならこの画像には猫がいる\n",
    "- 欠点: ラベル付きデータセットを作るコストがかかる\n",
    "    - ImageNet は1400万枚の画像にラベル付けをしている"
   ]
  },
  {
   "cell_type": "markdown",
   "metadata": {
    "slideshow": {
     "slide_type": "slide"
    }
   },
   "source": [
    "# 2. 教師なし学習\n",
    "\n",
    "- 入力: データは$x$のみ\n",
    "- 目的: $p(x)$ または $p(x, y)$ を推定したい\n",
    "    - $y$ は未観測"
   ]
  },
  {
   "cell_type": "markdown",
   "metadata": {
    "slideshow": {
     "slide_type": "slide"
    }
   },
   "source": [
    "# 2. 教師なし学習\n",
    "\n",
    "- 利点: ラベル付けをしなくてよい\n",
    "    - ラベル付けをしなくてもモデルがラベルを含め学習する\n",
    "    - $x$ と $y$ の関係をモデル化することで可能になる\n",
    "- 欠点\n",
    "    - ラベルの解釈は人間が行う必要がある\n",
    "        - $y\\in\\{1,\\dots,C\\}$ のようにデータを$C$個に分割するが、各分割の意味合いはわからない\n",
    "    - 確率分布の推定が難しいことが多い（後述）"
   ]
  },
  {
   "cell_type": "markdown",
   "metadata": {
    "slideshow": {
     "slide_type": "slide"
    }
   },
   "source": [
    "# ここまでのまとめ\n",
    "\n",
    "- 機械学習の問題は、データセットから確率分布を推定する問題に帰着されることが多い\n",
    "    - 各データが同一の確率分布に独立に従うと仮定\n",
    "    - 有限サイズのサンプルから確率分布を推定\n",
    "- 教師あり学習と教師なし学習の２つが代表的な問題\n",
    "    - 教師あり学習は教師ラベルが必要\n",
    "    - 教師なし学習は教師ラベルが不要\n",
    "- 本講義では __教師なし学習__ を取り扱います\n",
    "    - 他の講義で教師あり学習を取り扱っている（？）\n",
    "    - 確率分布の推定手法に工夫が必要なことが多い"
   ]
  },
  {
   "cell_type": "markdown",
   "metadata": {
    "slideshow": {
     "slide_type": "slide"
    }
   },
   "source": [
    "# 統計的機械学習の定式化（詳細）\n",
    "具体的にどのように学習を行うのかを説明する\n",
    "\n",
    "- サンプル: $\\mathcal{D} = \\{z_n\\in\\mathcal{Z} \\mid n=1,\\dots,N\\}$\n",
    "    - 仮定: $z_n \\overset{\\mathrm{iid}}{\\sim} p^\\star(z)$ ($p^\\star$: 未知の確率分布)\n",
    "- パラメトリックモデル $\\mathcal{M}=\\{p(z ; \\theta) \\mid \\theta\\in\\Theta\\}$ の中から $p^\\star$ に近いものをサンプルから推定する\n",
    "- ふたつの定式化を紹介する\n",
    "    1. 最尤推定\n",
    "    1. ベイズ推定"
   ]
  },
  {
   "cell_type": "markdown",
   "metadata": {
    "slideshow": {
     "slide_type": "slide"
    }
   },
   "source": [
    "# 定式化1: 最尤推定\n",
    "最も基本的な定式化では、最尤推定を行う。ここで尤度とは、あるパラメタ $\\theta$ で手元のサンプル $\\mathcal{D}$ が得られる確率:\n",
    "<div style=\"text-align: center;\">\n",
    "$\\begin{align}\\mathcal{L}(\\theta):=p(\\mathcal{D};\\theta)=\\prod_{n=1}^{N}p(z_n; \\theta).\\end{align}$\n",
    "</div>\n",
    "\n",
    "この尤度が最大となるようにパラメタ $\\theta$ を選ぶことを __最尤推定__ という:\n",
    "\n",
    "<div style=\"text-align: center;\">\n",
    "$\\hat{\\theta} = \\arg\\max_{\\theta\\in\\Theta}p(\\mathcal{D};\\theta)$\n",
    "</div>\n",
    "\n",
    "$p(z;\\hat\\theta)$ が $p^\\star$ に最も近い分布だと思うことにする。\n"
   ]
  },
  {
   "cell_type": "markdown",
   "metadata": {
    "slideshow": {
     "slide_type": "slide"
    }
   },
   "source": [
    "# 最尤推定 = 負の対数尤度の最小化\n",
    "\n",
    "\n",
    "<div style=\"text-align: center;\">\n",
    "「尤度を最大化 = 対数尤度の最大化 = 負の対数尤度の最小化」\n",
    "</div>\n",
    "\n",
    "なので、最尤推定は以下の最適化問題と同値:\n",
    "\n",
    "<div style=\"text-align: center;\">\n",
    "$\\hat{\\theta} = \\arg\\min_{\\theta\\in\\Theta}\\mathcal{L}(\\theta; \\mathcal{D}) = \\arg\\min_{\\theta\\in\\Theta}-\\sum_{n=1}^N \\log p(z_n ; \\theta)$\n",
    "</div>"
   ]
  },
  {
   "cell_type": "markdown",
   "metadata": {
    "slideshow": {
     "slide_type": "slide"
    }
   },
   "source": [
    "# 演習\n",
    "\n",
    "- サンプル: $x_1,\\dots,x_N\\in\\mathbb{R}$\n",
    "- パラメトリックモデル: $\\mathcal{M} = \\{\\mathcal{N}(\\mu, 1) \\mid \\mu\\in\\mathbb{R}\\}$\n",
    "    - $\\mathcal{N}(\\mu, \\sigma^2)$: 平均$\\mu$、分散$\\sigma^2$の正規分布\n",
    "    - $\\mathcal{N}(\\mu, \\sigma^2)$の確率密度関数は $p(x; \\mu, \\sigma^2) = \\dfrac{1}{\\sqrt{2\\pi \\sigma^2}} \\exp\\left(-\\dfrac{(x-\\mu)^2}{2\\sigma^2}\\right)$\n",
    "    \n",
    "としたとき、最尤推定量 $\\hat\\mu$ を求めよ。"
   ]
  },
  {
   "cell_type": "markdown",
   "metadata": {
    "slideshow": {
     "slide_type": "slide"
    }
   },
   "source": [
    "# 答え\n",
    "\n",
    "$-\\log p(x;\\mu, 1) = \\dfrac{(x-\\mu)^2}{2} + C$（$C$ は $x, \\mu$ によらない定数）なので、\n",
    "$$\\mathcal{L}(\\mu; \\mathcal{D}) = \\sum_{n=1}^{N}\\dfrac{(x_n-\\mu)^2}{2} + C$$"
   ]
  },
  {
   "cell_type": "markdown",
   "metadata": {
    "slideshow": {
     "slide_type": "slide"
    }
   },
   "source": [
    "$$\n",
    "\\begin{align*}\n",
    "\\sum_{n=1}^N \\dfrac{(x_n - \\mu)^2}{2} &= \\dfrac{1}{2} \\left(N\\mu^2 - 2 \\mu\\sum_{n=1}^{N}x_n + \\sum_{n=1}^{N}x_n^2\\right)\\\\\n",
    "&= \\dfrac{N}{2} \\left(\\mu^2 - 2 \\mu \\frac{1}{N}\\sum_{n=1}^N x_n + \\frac{1}{N} \\sum_{n=1}^{N} x_n^2\\right)\\\\\n",
    "&= \\dfrac{N}{2} \\left(\\mu - \\frac{1}{N} \\sum_{n=1}^N x_n\\right)^2 + C\n",
    "\\end{align*}\n",
    "$$\n",
    "最後の$C$は$\\mu$によらない定数"
   ]
  },
  {
   "cell_type": "markdown",
   "metadata": {
    "slideshow": {
     "slide_type": "slide"
    }
   },
   "source": [
    "よって\n",
    "$$\n",
    "\\begin{align*}\n",
    "\\hat\\mu &= \\arg\\min_{\\mu\\in\\mathbb{R}} \\mathcal{L}(\\mu; \\mathcal{D}) \\\\\n",
    "&= \\arg\\min_{\\mu\\in\\mathbb{R}} \\dfrac{N}{2} \\left(\\mu - \\frac{1}{N} \\sum_{n=1}^N x_n\\right)^2\\\\\n",
    "&= \\frac{1}{N} \\sum_{n=1}^N x_n\n",
    "\\end{align*}\n",
    "$$"
   ]
  },
  {
   "cell_type": "markdown",
   "metadata": {
    "slideshow": {
     "slide_type": "slide"
    }
   },
   "source": [
    "- 分散一定、平均未知の正規分布の「学習」は、 $\\mu$ にサンプル平均 $\\hat\\mu$ を代入するだけでよい\n",
    "    - $\\mu$ は分布の平均に対応するので、それっぽい\n",
    "    - これで学習なのか？→難しい手法でも大体こんなことをやっているだけなので学習と呼んでいいのでは"
   ]
  },
  {
   "cell_type": "markdown",
   "metadata": {
    "slideshow": {
     "slide_type": "slide"
    }
   },
   "source": [
    "- $\\hat\\theta$ が陽に書けることはあまりない\n",
    "    - 数理最適化の技術を使って数値的に $\\hat\\theta = \\arg\\min_{\\theta\\in\\Theta}\\mathcal{L}(\\theta; \\mathcal{D})$ を解く\n",
    "    - そもそも $\\mathcal{L}(\\theta; \\mathcal{D})$ を計算するのに莫大な計算量が必要なこともある\n",
    "    - ↑このあたりのことをやります"
   ]
  },
  {
   "cell_type": "markdown",
   "metadata": {
    "slideshow": {
     "slide_type": "slide"
    }
   },
   "source": [
    "# そもそもなぜ最尤推定？\n",
    "サンプル $\\mathcal{D}$ が観測される確率を最大化するようにパラメタを定めるのはそれっぽいけど...\n",
    "\n",
    "→ 漸近的（サンプルサイズを無限大にしたとき）に良い性質があるからよく使われる\n",
    "\n",
    "### 一致性 (consistency)\n",
    "サンプルが $p(z \\mid \\theta^\\star)$ に従うとする ($\\theta^\\star \\in \\Theta$)。このときある一定の条件下で、\n",
    "$$\\hat\\theta_N \\overset{\\mathrm{P}}{\\rightarrow} \\theta^\\star$$\n",
    "つまり、任意の$\\epsilon>0$に対して\n",
    "$$\\Pr[d(\\hat\\theta_N, \\theta^\\star) > \\epsilon] \\rightarrow 0\\ \\text{as}\\ N\\rightarrow\\infty$$\n",
    "が成り立つ。"
   ]
  },
  {
   "cell_type": "markdown",
   "metadata": {
    "slideshow": {
     "slide_type": "slide"
    }
   },
   "source": [
    "- サンプル $\\mathcal{D}$ が $p^\\star$ に従う確率変数だと思うと $\\hat\\theta_N$ も確率変数\n",
    "- サンプルのとり方によっては $\\hat\\theta_N$ が $\\theta^\\star$ と全然違う値になってしまう\n",
    "- サンプルサイズ $N$ が大きくなると上記のようなことが起こる確率が $0$ に近づく\n",
    "- つまり推定量 $\\hat\\theta_N$ はサンプルサイズが大きくなるに従って $\\theta^\\star$ に近づく確率が高くなる"
   ]
  },
  {
   "cell_type": "markdown",
   "metadata": {
    "slideshow": {
     "slide_type": "slide"
    }
   },
   "source": [
    "### 漸近的な有効性 (asymptotic efficiency)\n",
    "ある一定の条件下で、サンプルサイズ $N$ が大きくなるに従って、\n",
    "$$\\mathbb{E}[(\\hat\\theta_N - \\theta^\\star)^2]$$\n",
    "が理論的な下限 (Cramér–Rao bound) に収束する。"
   ]
  },
  {
   "cell_type": "markdown",
   "metadata": {
    "slideshow": {
     "slide_type": "slide"
    }
   },
   "source": [
    "- $\\mathbb{E}[(\\hat\\theta_N - \\theta^\\star)^2]$ は推定量 $\\hat\\theta_N$ の推定誤差\n",
    "    - サンプルを確率変数として考えたときのブレ\n",
    "    - 変なサンプルがきたら $(\\hat\\theta_N - \\theta^\\star)^2$ は大きくなる\n",
    "- Cramér–Rao bound\n",
    "    - 不偏推定量の推定誤差の下限\n",
    "    - 不偏推定量は、 $\\mathbb{E}\\hat\\theta = \\theta$ を満たす推定量のこと\n",
    "- 最尤推定量は漸近的に不偏かつ有効な推定量"
   ]
  },
  {
   "cell_type": "markdown",
   "metadata": {
    "slideshow": {
     "slide_type": "slide"
    }
   },
   "source": [
    "# 最尤推定のまとめ\n",
    "\n",
    "- 機械学習の問題は最尤推定量 $\\hat\\theta_N$ を計算することに帰着できる\n",
    "    - サンプル $\\mathcal{D}$ で陽に書けることもあれば書けないこともある\n",
    "    - 陽に書けない場合は工夫が必要\n",
    "- 最尤推定量は漸近的によい性質が色々あるため使われる\n",
    "    - 一致性\n",
    "    - 有効性\n",
    "    - etc."
   ]
  },
  {
   "cell_type": "markdown",
   "metadata": {
    "slideshow": {
     "slide_type": "slide"
    }
   },
   "source": [
    "# 定式化2: ベイズ推定\n",
    "\n",
    "- サンプル: $\\mathcal{D} = \\{z_n\\in\\mathcal{Z} \\mid n=1,\\dots,N\\}$\n",
    "    - 仮定: $z_n \\overset{\\mathrm{iid}}{\\sim} p^\\star(z)$ ($p^\\star$: 未知の確率分布)\n",
    "- パラメトリックモデル $\\mathcal{M}=\\{p(z \\mid \\theta) \\mid \\theta\\in\\Theta\\}$ の中から $p^\\star$ に近い$\\theta$が欲しい"
   ]
  },
  {
   "cell_type": "markdown",
   "metadata": {
    "slideshow": {
     "slide_type": "slide"
    }
   },
   "source": [
    "- 事前分布 $p(\\theta)$ を仮定する\n",
    "    - 事前知識を表現する\n",
    "    - 例えば $p(\\theta) = \\mathcal{N}(\\theta; 0, \\Sigma)$ とすると、 $\\theta$ はあまり大きな値を取らないという事前知識を反映する\n",
    "    - 事前分布は既知のものとする（パラメタも全部知ってるとする）\n",
    "- 事後分布 $p(\\theta \\mid \\mathcal{D})$ を計算することで上の問題を解く\n",
    "$$p(\\theta \\mid \\mathcal{D}) = \\dfrac{p(\\mathcal{D} \\mid \\theta) p(\\theta)}{p(\\mathcal{D})}$$"
   ]
  },
  {
   "cell_type": "markdown",
   "metadata": {
    "slideshow": {
     "slide_type": "skip"
    }
   },
   "source": [
    "# 事後分布\n",
    "\n",
    "データセットを観測した元でのモデルパラメタの推定を表す\n",
    "<img src=\"figs/posterior.png\" width=\"1024px\">"
   ]
  },
  {
   "cell_type": "markdown",
   "metadata": {
    "slideshow": {
     "slide_type": "skip"
    }
   },
   "source": [
    "# 演習\n",
    "\n",
    "- サンプル: $\\mathcal{D} = \\{x_1,\\dots,x_N\\}\\subset\\mathbb{R}$\n",
    "- サンプルが従うパラメトリックモデル: $\\mathcal{M} = \\{\\mathcal{N}(\\mu, 1) \\mid \\mu\\in\\mathbb{R}\\}$\n",
    "- 事前分布: $p(\\mu) = \\mathcal{N}(0,1)$\n",
    "    \n",
    "としたとき、 $\\mu$ の事後分布 $p(\\mu \\mid \\mathcal{D})$ を求めよ。"
   ]
  },
  {
   "cell_type": "markdown",
   "metadata": {
    "slideshow": {
     "slide_type": "skip"
    }
   },
   "source": [
    "# 答え\n",
    "$$\n",
    "p(\\mu \\mid \\mathcal{D}) = \\dfrac{p(\\mathcal{D} \\mid \\mu)p(\\mu)}{p(\\mathcal{D})}\n",
    "$$\n",
    "であるが、\n",
    "$$\n",
    "\\begin{align}\n",
    "\\log (p(\\mathcal{D} \\mid \\mu)p(\\mu)) &= \\log p(\\mathcal{D} \\mid \\mu) + \\log p(\\mu) \\\\\n",
    "&= \\log p(\\mu) + \\sum_{n=1}^N \\log p(x_n \\mid \\mu)\\\\\n",
    "&= - \\dfrac{\\mu^2}{2} - \\sum_{n=1}^N \\dfrac{(x_n - \\mu)^2}{2} + C\n",
    "\\end{align}\n",
    "$$\n",
    "（$C$は$\\mu$に依存しない項）"
   ]
  },
  {
   "cell_type": "markdown",
   "metadata": {
    "slideshow": {
     "slide_type": "skip"
    }
   },
   "source": [
    "$$\n",
    "\\begin{align}\n",
    "&= - \\dfrac{1}{2}\\left((N+1)\\mu^2 - 2\\mu\\sum_{n=1}^{N}x_n + \\sum_{n=1}^N x_n^2\\right)+C\\\\\n",
    "&= - \\dfrac{N+1}{2}\\left(\\mu - \\dfrac{1}{N+1}\\sum_{n=1}^N x_n\\right)^2 +C\n",
    "\\end{align}\n",
    "$$"
   ]
  },
  {
   "cell_type": "markdown",
   "metadata": {
    "slideshow": {
     "slide_type": "skip"
    }
   },
   "source": [
    "$\\log p(\\mu\\mid \\mathcal{D})$ が $\\mu$ に関する二次形式なので、 $p(\\mu\\mid\\mathcal{D})$ は正規分布。\n",
    "- 平均: $\\dfrac{1}{N+1}\\sum_{n=1}^N x_n$\n",
    "- 分散: $\\dfrac{1}{\\sqrt{N+1}}$"
   ]
  },
  {
   "cell_type": "markdown",
   "metadata": {
    "slideshow": {
     "slide_type": "skip"
    }
   },
   "source": [
    "# ベイズ推定の特徴\n",
    "\n",
    "データセット $\\mathcal{D}$ に $x_{N+1}=0$ を加えたような推定値が得られる\n",
    "- $x_{N+1}=0$ をデータセットに加えると、平均推定は $0$ に近づく\n",
    "- 事前分布は $\\mu$ が $0$ に近いことを仮定していた"
   ]
  },
  {
   "cell_type": "markdown",
   "metadata": {
    "slideshow": {
     "slide_type": "skip"
    }
   },
   "source": [
    "# ベイズ推定のまとめ\n",
    "\n",
    "- パラメタに対して事前分布 $p(\\theta)$ を置く\n",
    "- 事後分布 $p(\\theta \\mid \\mathcal{D}) = \\dfrac{p(\\mathcal{D} \\mid \\theta)p(\\theta)}{p(\\mathcal{D})}$ を計算する\n",
    "    - またはモデルの中の確率変数 $Z$ に関する事後分布を求めたりもする\n",
    "    - とにかく、データを得た元での興味がある確率変数の事後分布を求める"
   ]
  },
  {
   "cell_type": "markdown",
   "metadata": {
    "slideshow": {
     "slide_type": "slide"
    }
   },
   "source": [
    "# まとめ (1/2)\n",
    "\n",
    "- 人工知能業界はブームと冬の時代を繰り返してきた\n",
    "- 直近のブームでは統計的機械学習が注目されている\n",
    "- 統計的機械学習は、データセットから確率分布を推定する問題を解く"
   ]
  },
  {
   "cell_type": "markdown",
   "metadata": {
    "slideshow": {
     "slide_type": "slide"
    }
   },
   "source": [
    "# まとめ (2/2)\n",
    "\n",
    "- 教師あり学習と教師なし学習のふたつが機械学習の代表的な問題\n",
    "- 最尤推定とベイズ推定のふたつが代表的な推定方法\n",
    "    - 最尤推定を主に取り扱う"
   ]
  },
  {
   "cell_type": "markdown",
   "metadata": {},
   "source": [
    "# これ以降の授業について\n",
    "\n",
    "- 教師なし学習を主に扱う\n",
    "- 最尤推定する\n",
    "- 推定アルゴリズムの導出\n",
    "- Python を用いた実装"
   ]
  },
  {
   "cell_type": "code",
   "execution_count": null,
   "metadata": {},
   "outputs": [],
   "source": []
  }
 ],
 "metadata": {
  "celltoolbar": "Slideshow",
  "kernelspec": {
   "display_name": "Python 3 (ipykernel)",
   "language": "python",
   "name": "python3"
  },
  "language_info": {
   "codemirror_mode": {
    "name": "ipython",
    "version": 3
   },
   "file_extension": ".py",
   "mimetype": "text/x-python",
   "name": "python",
   "nbconvert_exporter": "python",
   "pygments_lexer": "ipython3",
   "version": "3.9.12"
  },
  "livereveal": {
   "center": false,
   "controls": true,
   "progress": true,
   "scroll": true,
   "slideNumber": true,
   "start_slideshow_at": "selected",
   "transition": "slide"
  }
 },
 "nbformat": 4,
 "nbformat_minor": 2
}
