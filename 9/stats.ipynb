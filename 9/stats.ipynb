{
 "cells": [
  {
   "cell_type": "code",
   "execution_count": 30,
   "metadata": {
    "slideshow": {
     "slide_type": "skip"
    }
   },
   "outputs": [
    {
     "data": {
      "text/html": [
       "<link rel=\"stylesheet\" type=\"text/css\" href=\"../custom.css\">\n"
      ],
      "text/plain": [
       "<IPython.core.display.HTML object>"
      ]
     },
     "metadata": {},
     "output_type": "display_data"
    }
   ],
   "source": [
    "%%HTML\n",
    "<link rel=\"stylesheet\" type=\"text/css\" href=\"../custom.css\">"
   ]
  },
  {
   "cell_type": "markdown",
   "metadata": {
    "slideshow": {
     "slide_type": "slide"
    }
   },
   "source": [
    "# 応用計量分析２（第9回）\n",
    "\n",
    "\n",
    "\n",
    "\n",
    "\n",
    "\n",
    "\n",
    "### 担当教員: 梶野 洸（かじの ひろし）\n"
   ]
  },
  {
   "cell_type": "markdown",
   "metadata": {
    "slideshow": {
     "slide_type": "slide"
    }
   },
   "source": [
    "# 本日の目標\n",
    "\n",
    "- オブジェクト指向の流儀で正規分布を実装する\n",
    "- 数式を伴う実装の考え方を紹介する"
   ]
  },
  {
   "cell_type": "markdown",
   "metadata": {
    "slideshow": {
     "slide_type": "slide"
    }
   },
   "source": [
    "# Python での実装\n",
    "\n",
    "まずは正規分布クラスを実装してみよう"
   ]
  },
  {
   "cell_type": "code",
   "execution_count": 2,
   "metadata": {
    "slideshow": {
     "slide_type": "slide"
    }
   },
   "outputs": [],
   "source": [
    "import numpy as np\n",
    "\n",
    "class Gaussian:\n",
    "    def __init__(self, dim):\n",
    "        '''コンストラクタ（みたいなもの）\n",
    "        オブジェクトを作るときに初めに実行される。\n",
    "        内部状態の初期化に使う\n",
    "        '''\n",
    "        self.dim = dim\n",
    "        '''\n",
    "        self = オブジェクトを指す。 self.dim は、オブジェクトの dim という変数を指す。\n",
    "        上の命令は、 self.dim に dim の値を代入することを表す\n",
    "        '''\n",
    "        self.mean = np.random.randn(dim) # オブジェクトの mean という変数をランダムに初期化\n",
    "        self.cov = np.identity(dim)\n",
    "\n",
    "    def log_pdf(self, X):\n",
    "        ''' 確率密度関数の対数を返す\n",
    "        \n",
    "        Parameters\n",
    "        ----------\n",
    "        X : numpy.array, shape (sample_size, dim)\n",
    "        \n",
    "        Returns\n",
    "        -------\n",
    "        log_pdf : array, shape (sample_size,)\n",
    "        '''\n",
    "        return 0\n",
    "    \n",
    "    \n",
    "    def fit(self, X):\n",
    "        ''' X を使って最尤推定をする\n",
    "                \n",
    "        Parameters\n",
    "        ----------\n",
    "        X : numpy.array, shape (sample_size, dim)\n",
    "        '''\n",
    "        pass\n",
    "\n",
    "    def sample(self, sample_size):\n",
    "        ''' 現状のパラメタを使って `sample_size` のサイズのサンプルを生成する\n",
    "        \n",
    "        Parameters\n",
    "        ----------------\n",
    "        sample_size : int\n",
    "        \n",
    "        Returns\n",
    "        -----------\n",
    "        X : numpy.array, shape (sample_size, dim)\n",
    "            各行は平均 `self.mean`, 分散 `self.cov` の正規分布に従う\n",
    "        '''\n",
    "        pass"
   ]
  },
  {
   "cell_type": "markdown",
   "metadata": {
    "slideshow": {
     "slide_type": "slide"
    }
   },
   "source": [
    "# `log_pdf` を書く手順を解説します\n",
    "\n",
    "- 入力は `sample_size` x `dim` の array\n",
    "- 出力は長さ `sample_size` の array\n",
    "    - 各データの確率密度の対数を計算したい"
   ]
  },
  {
   "cell_type": "markdown",
   "metadata": {
    "slideshow": {
     "slide_type": "slide"
    }
   },
   "source": [
    "# `log_pdf(self, X)` の実装\n",
    "\n",
    "$$\n",
    "\\log p(x \\mid \\mu, \\Sigma) = -\\dfrac{1}{2} (x - \\mu)^\\top \\Sigma^{-1} (x - \\mu) - \\dfrac{D}{2}\\log 2\\pi - \\dfrac{1}{2} \\log |\\Sigma|\n",
    "$$\n",
    "\n",
    "1. $- \\dfrac{D}{2}\\log 2\\pi - \\dfrac{1}{2} \\log |\\Sigma|$ の計算\n",
    "1. $-\\dfrac{1}{2} (x - \\mu)^\\top \\Sigma^{-1} (x - \\mu)$ の計算\n",
    "    1. $X$ がベクトルの時（データが一個の時）\n",
    "    1. $X$ が行列の時（データが複数個あってそれぞれについて計算したい時）"
   ]
  },
  {
   "cell_type": "markdown",
   "metadata": {
    "slideshow": {
     "slide_type": "slide"
    }
   },
   "source": [
    "#### 1. $- \\dfrac{D}{2}\\log 2\\pi - \\dfrac{1}{2} \\log |\\Sigma|$ の計算\n",
    "$\\log$ は `np.log`, log determinant は `np.linalg.slogdet` で計算できるので"
   ]
  },
  {
   "cell_type": "code",
   "execution_count": 32,
   "metadata": {
    "slideshow": {
     "slide_type": "-"
    }
   },
   "outputs": [
    {
     "data": {
      "text/plain": [
       "-4.594692666023363"
      ]
     },
     "execution_count": 32,
     "metadata": {},
     "output_type": "execute_result"
    }
   ],
   "source": [
    "dim = 5\n",
    "cov = np.identity(dim) # とりあえず単位行列で計算できるか確かめる\n",
    "\n",
    "- 0.5 * dim * np.log(2 * np.pi) - 0.5 * np.linalg.slogdet(cov)[1]"
   ]
  },
  {
   "cell_type": "markdown",
   "metadata": {
    "slideshow": {
     "slide_type": "slide"
    }
   },
   "source": [
    "#### 2. $-\\dfrac{1}{2} (x - \\mu)^\\top \\Sigma^{-1} (x - \\mu)$の計算（データが一個）\n",
    "1. $x-\\mu$ を計算する\n",
    "1. $\\Sigma^{-1}(x-\\mu)$ を計算する\n",
    "1. $-\\dfrac{1}{2}(x-\\mu)^{-1} \\Sigma^{-1} (x-\\mu)$を計算する"
   ]
  },
  {
   "cell_type": "code",
   "execution_count": 33,
   "metadata": {
    "slideshow": {
     "slide_type": "-"
    }
   },
   "outputs": [
    {
     "name": "stdout",
     "output_type": "stream",
     "text": [
      "[1. 1. 1. 1. 1. 1. 1. 1. 1. 1.]\n"
     ]
    }
   ],
   "source": [
    "dim = 10\n",
    "x = np.ones(dim)\n",
    "mean = np.zeros(dim)\n",
    "cov = 2.0 * np.identity(dim)\n",
    "\n",
    "centered_x = x - mean\n",
    "print(centered_x)"
   ]
  },
  {
   "cell_type": "code",
   "execution_count": 34,
   "metadata": {
    "slideshow": {
     "slide_type": "-"
    }
   },
   "outputs": [
    {
     "name": "stdout",
     "output_type": "stream",
     "text": [
      "[0.5 0.5 0.5 0.5 0.5 0.5 0.5 0.5 0.5 0.5]\n"
     ]
    }
   ],
   "source": [
    "cov_inv_centered_x = np.linalg.solve(cov, centered_x)\n",
    "print(cov_inv_centered_x)"
   ]
  },
  {
   "cell_type": "code",
   "execution_count": 35,
   "metadata": {
    "slideshow": {
     "slide_type": "-"
    }
   },
   "outputs": [
    {
     "data": {
      "text/plain": [
       "-2.5"
      ]
     },
     "execution_count": 35,
     "metadata": {},
     "output_type": "execute_result"
    }
   ],
   "source": [
    "-0.5 * (centered_x @ cov_inv_centered_x)"
   ]
  },
  {
   "cell_type": "markdown",
   "metadata": {
    "slideshow": {
     "slide_type": "slide"
    }
   },
   "source": [
    "#### 2. $-\\dfrac{1}{2} (x - \\mu)^\\top \\Sigma^{-1} (x - \\mu)$の計算（データが複数個）\n",
    "1. $x-\\mu$ を計算する\n",
    "1. $\\Sigma^{-1}(x-\\mu)$ を計算する\n",
    "1. $-\\dfrac{1}{2}(x-\\mu)^{\\top} \\Sigma^{-1} (x-\\mu)$を計算する"
   ]
  },
  {
   "cell_type": "code",
   "execution_count": 37,
   "metadata": {
    "slideshow": {
     "slide_type": "-"
    }
   },
   "outputs": [
    {
     "name": "stdout",
     "output_type": "stream",
     "text": [
      "[[ 0  1  2]\n",
      " [ 3  4  5]\n",
      " [ 6  7  8]\n",
      " [ 9 10 11]\n",
      " [12 13 14]\n",
      " [15 16 17]\n",
      " [18 19 20]\n",
      " [21 22 23]\n",
      " [24 25 26]\n",
      " [27 28 29]] [1. 1. 1.]\n"
     ]
    }
   ],
   "source": [
    "dim = 3\n",
    "sample_size = 10\n",
    "\n",
    "X = np.arange(sample_size * dim).reshape(sample_size, dim)\n",
    "mean = np.ones(dim)\n",
    "cov = 2.0 * np.identity(dim)\n",
    "print(X, mean)"
   ]
  },
  {
   "cell_type": "code",
   "execution_count": 38,
   "metadata": {
    "slideshow": {
     "slide_type": "-"
    }
   },
   "outputs": [
    {
     "name": "stdout",
     "output_type": "stream",
     "text": [
      "[[-1.  0.  1.]\n",
      " [ 2.  3.  4.]\n",
      " [ 5.  6.  7.]\n",
      " [ 8.  9. 10.]\n",
      " [11. 12. 13.]\n",
      " [14. 15. 16.]\n",
      " [17. 18. 19.]\n",
      " [20. 21. 22.]\n",
      " [23. 24. 25.]\n",
      " [26. 27. 28.]]\n"
     ]
    }
   ],
   "source": [
    "centered_X = X - mean\n",
    "print(centered_X)"
   ]
  },
  {
   "cell_type": "code",
   "execution_count": 39,
   "metadata": {},
   "outputs": [
    {
     "name": "stdout",
     "output_type": "stream",
     "text": [
      "[[-0.5  0.   0.5]\n",
      " [ 1.   1.5  2. ]\n",
      " [ 2.5  3.   3.5]\n",
      " [ 4.   4.5  5. ]\n",
      " [ 5.5  6.   6.5]\n",
      " [ 7.   7.5  8. ]\n",
      " [ 8.5  9.   9.5]\n",
      " [10.  10.5 11. ]\n",
      " [11.5 12.  12.5]\n",
      " [13.  13.5 14. ]]\n"
     ]
    }
   ],
   "source": [
    "cov_inv_centered_X = np.linalg.solve(cov, centered_X.T).T\n",
    "print(cov_inv_centered_X)"
   ]
  },
  {
   "cell_type": "code",
   "execution_count": 42,
   "metadata": {},
   "outputs": [
    {
     "data": {
      "text/plain": [
       "array([-5.0000e-01, -7.2500e+00, -2.7500e+01, -6.1250e+01, -1.0850e+02,\n",
       "       -1.6925e+02, -2.4350e+02, -3.3125e+02, -4.3250e+02, -5.4725e+02])"
      ]
     },
     "execution_count": 42,
     "metadata": {},
     "output_type": "execute_result"
    }
   ],
   "source": [
    "-0.5 * np.sum(centered_X * cov_inv_centered_X, axis=1)"
   ]
  },
  {
   "cell_type": "markdown",
   "metadata": {
    "slideshow": {
     "slide_type": "slide"
    }
   },
   "source": [
    "# それぞれの項をまとめて関数を作る"
   ]
  },
  {
   "cell_type": "code",
   "execution_count": 43,
   "metadata": {},
   "outputs": [],
   "source": [
    "import numpy as np\n",
    "\n",
    "class Gaussian:\n",
    "    def __init__(self, dim):\n",
    "        '''コンストラクタ（みたいなもの）\n",
    "        オブジェクトを作るときに初めに実行される。\n",
    "        内部状態の初期化に使う\n",
    "        '''\n",
    "        self.dim = dim\n",
    "        '''\n",
    "        self = オブジェクトを指す。 self.dim は、オブジェクトの dim という変数を指す。\n",
    "        上の命令は、 self.dim に dim の値を代入することを表す\n",
    "        '''\n",
    "        self.mean = np.random.randn(dim) # オブジェクトの mean という変数をランダムに初期化\n",
    "        self.cov = np.identity(dim)\n",
    "        \n",
    "    def log_pdf(self, X):\n",
    "        ''' 確率密度関数の対数を返す\n",
    "        \n",
    "        Parameters\n",
    "        ----------\n",
    "        X : numpy.array, shape (sample_size, dim)\n",
    "        \n",
    "        Returns\n",
    "        -------\n",
    "        log_pdf : array, shape (sample_size,)\n",
    "        '''\n",
    "        centered_X = X - self.mean\n",
    "        cov_inv_centered_X = np.linalg.solve(self.cov, centered_X.T).T\n",
    "        log_pdf = - 0.5 * self.dim * np.log(2 * np.pi) - 0.5 * np.linalg.slogdet(self.cov)[1] - 0.5 * np.sum(centered_X * cov_inv_centered_X, axis=1)\n",
    "        return log_pdf"
   ]
  },
  {
   "cell_type": "code",
   "execution_count": 45,
   "metadata": {},
   "outputs": [
    {
     "data": {
      "text/plain": [
       "array([-1.83787707, -1.83787707, -1.83787707, -1.83787707, -1.83787707,\n",
       "       -1.83787707, -1.83787707, -1.83787707, -1.83787707, -1.83787707])"
      ]
     },
     "execution_count": 45,
     "metadata": {},
     "output_type": "execute_result"
    }
   ],
   "source": [
    "my_gaussian = Gaussian(dim=2)\n",
    "X = np.zeros((10, 2))\n",
    "my_gaussian.mean = np.zeros(2)\n",
    "my_gaussian.log_pdf(X)"
   ]
  },
  {
   "cell_type": "markdown",
   "metadata": {
    "slideshow": {
     "slide_type": "slide"
    }
   },
   "source": [
    "# 実装の手順まとめ\n",
    "1. 実装したいものを数式で書き起こす\n",
    "1. 数式を計算するには何をどの順番で計算したらいいかを考える\n",
    "    - なるべく細かくする\n",
    "    - 全然わからないときは、実装したいものを単純化したもので考えるのも手\n",
    "1. それぞれの手順を実装して、手元で動くか確かめる\n",
    "    - 配列の大きさのチェックをする\n",
    "    - できれば検算も\n",
    "1. 組み合わせてクラスに実装する"
   ]
  },
  {
   "cell_type": "markdown",
   "metadata": {
    "slideshow": {
     "slide_type": "slide"
    }
   },
   "source": [
    "# 課題\n",
    "\n",
    "1. `fit` を完成させよ。\n",
    "    - 入力は `sample_size` x `dim` の array `X`\n",
    "    - `self.mean` と `self.cov` を `X` で計算した最尤推定量で更新する\n",
    "1. `sample` を完成させよ。\n",
    "    - 入力は `sample_size`\n",
    "    - 出力は平均 `self.mean`、分散`self.cov` の正規分布に従う乱数"
   ]
  },
  {
   "cell_type": "code",
   "execution_count": 46,
   "metadata": {
    "slideshow": {
     "slide_type": "skip"
    }
   },
   "outputs": [],
   "source": [
    "import numpy as np\n",
    "\n",
    "class Gaussian:\n",
    "    def __init__(self, dim):\n",
    "        '''コンストラクタ（みたいなもの）\n",
    "        オブジェクトを作るときに初めに実行される。\n",
    "        内部状態の初期化に使う\n",
    "        '''\n",
    "        self.dim = dim\n",
    "        '''\n",
    "        self = オブジェクトを指す。 self.dim は、オブジェクトの dim という変数を指す。\n",
    "        上の命令は、 self.dim に dim の値を代入することを表す\n",
    "        '''\n",
    "        self.mean = np.random.randn(dim) # オブジェクトの mean という変数をランダムに初期化\n",
    "        self.cov = np.identity(dim)\n",
    "\n",
    "    def log_pdf(self, X):\n",
    "        ''' 確率密度関数の対数を返す\n",
    "        \n",
    "        Parameters\n",
    "        ----------\n",
    "        X : numpy.array, shape (sample_size, dim)\n",
    "        \n",
    "        Returns\n",
    "        -------\n",
    "        log_pdf : array, shape (sample_size,)\n",
    "        '''\n",
    "        if X.shape[1] != self.dim: # 入力の形をチェックしています\n",
    "            raise ValueError('X.shape must be (sample_size, dim)')\n",
    "        return -0.5 * np.sum((X - self.mean) * (np.linalg.solve(self.cov, (X - self.mean).T).T), axis=1) \\\n",
    "            -0.5 * self.dim * np.log(2.0 * np.pi) - 0.5 * np.linalg.slogdet(self.cov)[1]\n",
    "\n",
    "    def fit(self, X):\n",
    "        ''' X を使って最尤推定をする\n",
    "                \n",
    "        Parameters\n",
    "        ----------\n",
    "        X : numpy.array, shape (sample_size, dim)\n",
    "        '''\n",
    "        if X.shape[1] != self.dim: # 入力の形をチェックしています\n",
    "            raise ValueError('X.shape must be (sample_size, dim)')\n",
    "        self.mean = np.mean(X, axis=0)\n",
    "        self.cov = (X - self.mean).T @ (X - self.mean) / X.shape[0]\n",
    "\n",
    "    def sample(self, sample_size):\n",
    "        ''' 現状のパラメタを使って `sample_size` のサイズのサンプルを生成する\n",
    "        \n",
    "        Parameters\n",
    "        ----------------\n",
    "        sample_size : int\n",
    "        \n",
    "        Returns\n",
    "        -----------\n",
    "        X : numpy.array, shape (sample_size, dim)\n",
    "            各行は平均 `self.mean`, 分散 `self.cov` の正規分布に従う\n",
    "        '''\n",
    "        return np.random.multivariate_normal(self.mean, self.cov, size=sample_size)"
   ]
  },
  {
   "cell_type": "markdown",
   "metadata": {
    "slideshow": {
     "slide_type": "skip"
    }
   },
   "source": [
    "# ポイント\n",
    "\n",
    "1. 逆行列を使わず、線型方程式を解く\n",
    "1. for文を使わず、行列演算で頑張る\n",
    "$$ \\sum_{n=1}^N x_n x_n^\\top = \\begin{bmatrix}x_1 & x_2 & \\dots & x_N\\end{bmatrix} \\begin{bmatrix}x_1^\\top \\\\ x_2^\\top \\\\ \\vdots \\\\ x_N^\\top\\end{bmatrix} $$"
   ]
  },
  {
   "cell_type": "markdown",
   "metadata": {
    "slideshow": {
     "slide_type": "skip"
    }
   },
   "source": [
    "以下のように分解してみるとわかる\n",
    "$$\n",
    " \\begin{bmatrix}x_1 & x_2 & \\dots & x_N\\end{bmatrix} = \\begin{bmatrix}x_1 & 0 & \\dots & 0\\end{bmatrix} + \\begin{bmatrix}0 & x_2 & \\dots & 0\\end{bmatrix} + \\cdots + \\begin{bmatrix}0 & 0 & \\dots & x_N\\end{bmatrix}\n",
    "$$"
   ]
  },
  {
   "cell_type": "markdown",
   "metadata": {
    "slideshow": {
     "slide_type": "slide"
    }
   },
   "source": [
    "# クラスの使い方\n",
    "\n",
    "- オブジェクトを作る"
   ]
  },
  {
   "cell_type": "code",
   "execution_count": 47,
   "metadata": {},
   "outputs": [],
   "source": [
    "my_model = Gaussian(2) # my_model というオブジェクトが出来た"
   ]
  },
  {
   "cell_type": "code",
   "execution_count": 48,
   "metadata": {},
   "outputs": [
    {
     "name": "stdout",
     "output_type": "stream",
     "text": [
      "[-0.16551882  0.43197104] [[1. 0.]\n",
      " [0. 1.]]\n"
     ]
    }
   ],
   "source": [
    "print(my_model.mean, my_model.cov) # 平均、共分散行列を持っている"
   ]
  },
  {
   "cell_type": "code",
   "execution_count": 49,
   "metadata": {},
   "outputs": [
    {
     "name": "stdout",
     "output_type": "stream",
     "text": [
      "[-0.85714704 -0.17641052] [[1. 0.]\n",
      " [0. 1.]]\n"
     ]
    }
   ],
   "source": [
    "my_model_1 = Gaussian(2) # 他のオブジェクトも作れる\n",
    "print(my_model_1.mean, my_model_1.cov) # 平均はランダムに初期化されるため my_model とは異なる"
   ]
  },
  {
   "cell_type": "markdown",
   "metadata": {
    "slideshow": {
     "slide_type": "slide"
    }
   },
   "source": [
    "- 命令する（メソッドを実行する）"
   ]
  },
  {
   "cell_type": "code",
   "execution_count": 50,
   "metadata": {},
   "outputs": [
    {
     "data": {
      "image/png": "[encoded data removed]",
      "text/plain": [
       "<Figure size 640x480 with 1 Axes>"
      ]
     },
     "metadata": {},
     "output_type": "display_data"
    }
   ],
   "source": [
    "X = np.random.multivariate_normal(np.array([1.0, 2.0]), np.array([[1.0, 0.9], [0.9, 4.0]]), size=100)\n",
    "import matplotlib.pyplot as plt\n",
    "plt.scatter(X[:, 0], X[:, 1])\n",
    "plt.show()"
   ]
  },
  {
   "cell_type": "code",
   "execution_count": 51,
   "metadata": {},
   "outputs": [
    {
     "name": "stdout",
     "output_type": "stream",
     "text": [
      "[0.87734624 2.01389858]\n",
      "[[1.09402403 0.92259907]\n",
      " [0.92259907 4.05046877]]\n"
     ]
    }
   ],
   "source": [
    "my_model.fit(X) # X で最尤推定をして、 mean, cov を更新する\n",
    "print(my_model.mean)\n",
    "print(my_model.cov)"
   ]
  },
  {
   "cell_type": "code",
   "execution_count": 52,
   "metadata": {},
   "outputs": [
    {
     "data": {
      "image/png": "[encoded data removed]",
      "text/plain": [
       "<Figure size 640x480 with 1 Axes>"
      ]
     },
     "metadata": {},
     "output_type": "display_data"
    },
    {
     "name": "stdout",
     "output_type": "stream",
     "text": [
      "[1.01693318 2.03092636] [[0.98525066 0.87832014]\n",
      " [0.87832014 3.95891862]]\n"
     ]
    }
   ],
   "source": [
    "# サンプルサイズを大きくすると、真値に近くなる\n",
    "X = np.random.multivariate_normal(np.array([1.0, 2.0]), np.array([[1.0, 0.9], [0.9, 4.0]]), size=10000)\n",
    "import matplotlib.pyplot as plt\n",
    "plt.scatter(X[:, 0], X[:, 1])\n",
    "plt.show()\n",
    "my_model.fit(X)\n",
    "print(my_model.mean, my_model.cov)"
   ]
  },
  {
   "cell_type": "code",
   "execution_count": 53,
   "metadata": {},
   "outputs": [
    {
     "data": {
      "image/png": "[encoded data removed]",
      "text/plain": [
       "<Figure size 640x480 with 1 Axes>"
      ]
     },
     "metadata": {},
     "output_type": "display_data"
    }
   ],
   "source": [
    "# サンプリングを試してみる\n",
    "sample = my_model.sample(10000)\n",
    "plt.scatter(sample[:, 0], sample[:, 1])\n",
    "plt.show()"
   ]
  },
  {
   "cell_type": "code",
   "execution_count": 55,
   "metadata": {},
   "outputs": [
    {
     "data": {
      "text/plain": [
       "array([0.15915494])"
      ]
     },
     "execution_count": 55,
     "metadata": {},
     "output_type": "execute_result"
    }
   ],
   "source": [
    "my_model.mean = np.array([0, 0])\n",
    "my_model.cov = np.identity(2)\n",
    "np.exp(my_model.log_pdf(np.array([[0,0]]))) # 1次元の Normal distribution だと 0.4 くらいなので、二次元だと0.16くらいのはず"
   ]
  },
  {
   "cell_type": "markdown",
   "metadata": {
    "slideshow": {
     "slide_type": "slide"
    }
   },
   "source": [
    "# ここまでのまとめ\n",
    "\n",
    "- 統計モデルはクラスを使って書く\n",
    "    - 内部状態 = モデルのパラメタ、ハイパーパラメタ\n",
    "    - メソッド = パラメタ推定、予測、入力チェック、内部状態更新"
   ]
  },
  {
   "cell_type": "markdown",
   "metadata": {
    "slideshow": {
     "slide_type": "slide"
    }
   },
   "source": [
    "# 演習（必須ではない）\n",
    "\n",
    "1. さいころの目\n",
    "1. 前回作った PCA をクラスの形で書き換えよ"
   ]
  },
  {
   "cell_type": "code",
   "execution_count": null,
   "metadata": {},
   "outputs": [],
   "source": [
    "class Dice:\n",
    "    \n",
    "    def __init__(self, n_faces):\n",
    "        self.n_faces = n_faces\n",
    "        self.set_prob(np.ones(self.n_faces) / self.n_faces)\n",
    "        \n",
    "    def set_prob(self, prob_array):\n",
    "        if not np.allclose(prob_array.sum(), 1.0):\n",
    "            raise ValueError('prob_array must be normalized.')\n",
    "        if prob_array.shape != (self.n_faces,):\n",
    "            raise ValueError(f'prob_array must be of shape ({self.n_faces},)')\n",
    "        self.prob_array = prob_array\n",
    "        \n",
    "    def fit(self, X):\n",
    "        '''\n",
    "        Parameters\n",
    "        ----------\n",
    "        X : array, shape (n_faces, )\n",
    "            X[i] は i 番目の目が出た回数を表す\n",
    "        '''\n",
    "        self.set_prob(X / X.sum())\n",
    "    \n",
    "    def sample(self, n_trials):\n",
    "        '''\n",
    "        Parameters\n",
    "        ----------\n",
    "        n_trials : int\n",
    "            さいころを振る回数\n",
    "        \n",
    "        Returns\n",
    "        ------\n",
    "        X : array, shape (n_faces,)\n",
    "            X[i] は i 番目の目が出た回数を表す\n",
    "        '''\n",
    "        return np.random.multinomial(n_trials, self.prob_array)"
   ]
  },
  {
   "cell_type": "code",
   "execution_count": null,
   "metadata": {},
   "outputs": [],
   "source": [
    "from scipy.linalg import eigh\n",
    "\n",
    "class PCA:\n",
    "    def __init__(self, input_dim, n_components):\n",
    "        self.input_dim = input_dim\n",
    "        self.n_components = n_components\n",
    "        self.set_encoder(np.eye(self.input_dim)[:self.n_components, :])\n",
    "    \n",
    "    def set_encoder(self, encoder):\n",
    "        if encoder.shape != (self.n_components, self.input_dim):\n",
    "            raise ValueError(f'encoder must have shape {(self.n_components, self.input_dim)}')\n",
    "        if np.abs(encoder @ encoder.transpose() - np.eye(self.n_components)).max() > 1e-4:\n",
    "            raise ValueError('encoder must be orthonormal.')\n",
    "        self.encoder = encoder\n",
    "        \n",
    "    def fit(self, X):\n",
    "        eig_val, eig_vec = eigh(X.T @ X)\n",
    "        self.set_encoder(eig_vec[:, -self.n_components:].transpose())\n",
    "\n",
    "    def transform(self, X):\n",
    "        return X @ self.encoder.transpose()\n",
    "\n",
    "    def inverse_transform(self, z):\n",
    "        return z @ self.encoder"
   ]
  },
  {
   "cell_type": "code",
   "execution_count": null,
   "metadata": {},
   "outputs": [],
   "source": [
    "import matplotlib.pyplot as plt\n",
    "from sklearn.datasets import fetch_olivetti_faces\n",
    "\n",
    "# データを取得\n",
    "dataset = fetch_olivetti_faces()\n",
    "num_examples, row_size, col_size = dataset['images'].shape\n",
    "X = dataset['data']\n",
    "\n",
    "# 平均0にしておく（しなくてもまあ大丈夫だけど）\n",
    "X_mean = X.mean(axis=0)\n",
    "X_centered = X - X_mean\n",
    "\n",
    "n_components=20\n",
    "\n",
    "pca = PCA(X.shape[1], n_components)\n",
    "pca.fit(X_centered)"
   ]
  },
  {
   "cell_type": "code",
   "execution_count": null,
   "metadata": {},
   "outputs": [],
   "source": [
    "z = pca.transform(X_centered)\n",
    "X_rec = pca.inverse_transform(z) + X_mean\n",
    "idx = 190\n",
    "\n",
    "f, (ax1, ax2) = plt.subplots(1, 2)\n",
    "ax1.imshow(dataset['images'][idx], cmap=plt.cm.gray) # 左が元の画像\n",
    "ax2.imshow(X_rec[idx].reshape(row_size, col_size), cmap=plt.cm.gray) # 右が再構成画像\n",
    "plt.show()"
   ]
  },
  {
   "cell_type": "code",
   "execution_count": null,
   "metadata": {},
   "outputs": [],
   "source": []
  }
 ],
 "metadata": {
  "celltoolbar": "Slideshow",
  "kernelspec": {
   "display_name": "Python 3 (ipykernel)",
   "language": "python",
   "name": "python3"
  },
  "language_info": {
   "codemirror_mode": {
    "name": "ipython",
    "version": 3
   },
   "file_extension": ".py",
   "mimetype": "text/x-python",
   "name": "python",
   "nbconvert_exporter": "python",
   "pygments_lexer": "ipython3",
   "version": "3.10.6"
  },
  "livereveal": {
   "center": false,
   "controls": true,
   "progress": true,
   "scroll": true,
   "slideNumber": true,
   "start_slideshow_at": "selected",
   "transition": "slide"
  }
 },
 "nbformat": 4,
 "nbformat_minor": 2
}
