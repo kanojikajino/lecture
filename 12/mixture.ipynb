{
 "cells": [
  {
   "cell_type": "code",
   "execution_count": 1,
   "metadata": {
    "slideshow": {
     "slide_type": "skip"
    }
   },
   "outputs": [
    {
     "data": {
      "text/html": [
       "<link rel=\"stylesheet\" type=\"text/css\" href=\"../custom.css\">\n"
      ],
      "text/plain": [
       "<IPython.core.display.HTML object>"
      ]
     },
     "metadata": {},
     "output_type": "display_data"
    }
   ],
   "source": [
    "%%HTML\n",
    "<link rel=\"stylesheet\" type=\"text/css\" href=\"../custom.css\">"
   ]
  },
  {
   "cell_type": "markdown",
   "metadata": {
    "slideshow": {
     "slide_type": "slide"
    }
   },
   "source": [
    "# 応用計量分析２（第12回）\n",
    "混合分布モデルとEMアルゴリズム\n",
    "\n",
    "\n",
    "\n",
    "\n",
    "\n",
    "\n",
    "### 担当教員: 梶野 洸（かじの ひろし）\n"
   ]
  },
  {
   "cell_type": "markdown",
   "metadata": {
    "slideshow": {
     "slide_type": "slide"
    }
   },
   "source": [
    "# EMアルゴリズムの実装\n"
   ]
  },
  {
   "cell_type": "markdown",
   "metadata": {
    "slideshow": {
     "slide_type": "slide"
    }
   },
   "source": [
    "# 演習\n",
    "混合ガウスモデルの場合、\n",
    "\n",
    "- 内部状態\n",
    "- 欲しい命令\n",
    "\n",
    "は何か？"
   ]
  },
  {
   "cell_type": "markdown",
   "metadata": {
    "slideshow": {
     "slide_type": "slide"
    }
   },
   "source": [
    "# 一つの答え\n",
    "\n",
    "- 内部状態\n",
    "    - 正規分布の平均、分散共分散行列 $\\times K$個\n",
    "    - 重み $\\pi=\\begin{bmatrix}\\pi_1 &\\dots & \\pi_K \\end{bmatrix}$\n",
    "- 命令\n",
    "    - データを入力して、パラメタを最尤推定する\n",
    "    - データを入力して、各データの潜在変数を推定する（現状の内部状態を使って）"
   ]
  },
  {
   "cell_type": "markdown",
   "metadata": {
    "slideshow": {
     "slide_type": "slide"
    }
   },
   "source": [
    "# 他の答え\n",
    "補助的なものを持っていてもよい\n",
    "\n",
    "- 内部状態\n",
    "    - 正規分布の平均、分散共分散行列 $\\times K$個\n",
    "    - 重み $\\pi=\\begin{bmatrix}\\pi_1 &\\dots & \\pi_K \\end{bmatrix}$\n",
    "    - __混合数 $K$ を陽に持っておくと何かと便利__\n",
    "- 命令\n",
    "    - データを入力して、パラメタを最尤推定する\n",
    "        - __E ステップを実行する__\n",
    "        - __M ステップを実行する__\n",
    "        - __尤度を計算する__\n",
    "    - データを入力して、各データの潜在変数を推定する（現状の内部状態を使って）"
   ]
  },
  {
   "cell_type": "markdown",
   "metadata": {
    "slideshow": {
     "slide_type": "slide"
    }
   },
   "source": [
    "# 他の答え2\n",
    "内部状態として他のクラスのオブジェクトを持っていてもよい\n",
    "\n",
    "- 正規分布クラス\n",
    "    - 内部状態\n",
    "        - 平均\n",
    "        - 分散共分散行列\n",
    "    - 命令\n",
    "        - データを入力して、パラメタを最尤推定する\n",
    "        - データを入力して、尤度を計算する\n",
    "\n",
    "- GMM クラス\n",
    "    - 内部状態\n",
    "        - 正規分布オブジェクト $\\times K$個\n",
    "        - 重み $\\pi=\\begin{bmatrix}\\pi_1 &\\dots & \\pi_K \\end{bmatrix}$\n",
    "        - __混合数 $K$ を陽に持っておくと何かと便利__\n",
    "    - 命令\n",
    "        - データを入力して、パラメタを最尤推定する\n",
    "            - __E ステップを実行する__\n",
    "            - __M ステップを実行する__\n",
    "            - __尤度を計算する__\n",
    "        - データを入力して、各データの潜在変数を推定する（現状の内部状態を使って）"
   ]
  },
  {
   "cell_type": "markdown",
   "metadata": {
    "slideshow": {
     "slide_type": "slide"
    }
   },
   "source": [
    "# Python での実装\n",
    "\n",
    "まずは正規分布クラスを実装してみよう"
   ]
  },
  {
   "cell_type": "markdown",
   "metadata": {
    "slideshow": {
     "slide_type": "slide"
    }
   },
   "source": [
    "# 課題\n",
    "\n",
    "正規分布クラスを実装せよ（以前の資料からコピペでOK）"
   ]
  },
  {
   "cell_type": "code",
   "execution_count": 2,
   "metadata": {},
   "outputs": [],
   "source": [
    "import numpy as np\n",
    "\n",
    "class Gaussian:\n",
    "    def __init__(self, dim):\n",
    "        '''コンストラクタ（みたいなもの）\n",
    "        オブジェクトを作るときに初めに実行される。\n",
    "        内部状態の初期化に使う\n",
    "        '''\n",
    "        self.dim = dim\n",
    "        '''\n",
    "        self = オブジェクトを指す。 self.dim は、オブジェクトの dim という変数を指す。\n",
    "        上の命令は、 self.dim に dim の値を代入することを表す\n",
    "        '''\n",
    "        self.set_mean(np.random.randn(dim)) # オブジェクトの mean という変数をランダムに初期化\n",
    "        self.set_cov(np.identity(dim))\n",
    "        \n",
    "    def log_pdf(self, X):\n",
    "        ''' 確率密度関数の対数を返す\n",
    "        \n",
    "        Parameters\n",
    "        ----------\n",
    "        X : numpy.array, shape (sample_size, dim)\n",
    "        \n",
    "        Returns\n",
    "        -------\n",
    "        log_pdf : array, shape (sample_size,)\n",
    "        '''\n",
    "        if X.shape[1] != self.dim: # 入力の形をチェックしています\n",
    "            raise ValueError('X.shape must be (sample_size, dim)')\n",
    "        return -0.5 * np.sum((X - self.mean) * (np.linalg.solve(self.cov, (X - self.mean).T).T), axis=1) \\\n",
    "            -0.5 * self.dim * np.log(2.0 * np.pi) - 0.5 * np.linalg.slogdet(self.cov)[1]\n",
    "\n",
    "    def fit(self, X):\n",
    "        ''' X を使って最尤推定をする\n",
    "                \n",
    "        Parameters\n",
    "        ----------\n",
    "        X : numpy.array, shape (sample_size, dim)\n",
    "        '''\n",
    "        if X.shape[1] != self.dim: # 入力の形をチェックしています\n",
    "            raise ValueError('X.shape must be (sample_size, dim)')\n",
    "        self.set_mean(np.mean(X, axis=0))\n",
    "        self.set_cov((X - self.mean).T @ (X - self.mean) / X.shape[0])\n",
    "\n",
    "    def sample(self, sample_size):\n",
    "        ''' 現状のパラメタを使って `sample_size` のサイズのサンプルを生成する\n",
    "        \n",
    "        Parameters\n",
    "        ----------------\n",
    "        sample_size : int\n",
    "        \n",
    "        Returns\n",
    "        -----------\n",
    "        X : numpy.array, shape (sample_size, dim)\n",
    "            各行は平均 `self.mean`, 分散 `self.cov` の正規分布に従う\n",
    "        '''\n",
    "        return np.random.multivariate_normal(self.mean, self.cov, size=sample_size)\n",
    "        \n",
    "    def set_mean(self, mean):\n",
    "        if mean.shape != (self.dim,):\n",
    "            raise ValueError('input shape inconsistency')\n",
    "        self.mean = mean\n",
    "    \n",
    "    def set_cov(self, cov):\n",
    "        if cov.shape != (self.dim, self.dim):\n",
    "            raise ValueError('input shape inconsistency')\n",
    "        if np.linalg.eigvalsh(cov)[0] <= 0:\n",
    "            raise ValueError('covariance matrix must be positive semidefinite.')\n",
    "        self.cov = cov"
   ]
  },
  {
   "cell_type": "markdown",
   "metadata": {
    "slideshow": {
     "slide_type": "slide"
    }
   },
   "source": [
    "# 課題\n",
    "- GMM クラスの `__init__` を書いてみよう"
   ]
  },
  {
   "cell_type": "code",
   "execution_count": 3,
   "metadata": {
    "slideshow": {
     "slide_type": "slide"
    }
   },
   "outputs": [],
   "source": [
    "class GMM:\n",
    "    def __init__(self, dim, num_components):\n",
    "        self.dim = dim\n",
    "        self.num_components = num_components\n",
    "\n",
    "        self.weight = np.ones(self.num_components) / self.num_components\n",
    "        self.gaussian_list = []\n",
    "        for _ in range(self.num_components):\n",
    "            self.gaussian_list.append(Gaussian(dim))"
   ]
  },
  {
   "cell_type": "code",
   "execution_count": 4,
   "metadata": {},
   "outputs": [
    {
     "name": "stdout",
     "output_type": "stream",
     "text": [
      "[-0.6205795   0.90844947]\n",
      "[0.5084933  0.69319952]\n",
      "[0.03627212 0.40881998]\n",
      "[ 0.46472002 -0.12202306]\n",
      "[-0.04780564 -0.76016656]\n",
      "[-1.25989674 -0.34276315]\n",
      "[ 0.32399017 -0.27069776]\n",
      "[-1.31465383  0.49880164]\n",
      "[-1.34773983  0.57573302]\n",
      "[-0.77237177 -0.53951956]\n",
      "[0.1 0.1 0.1 0.1 0.1 0.1 0.1 0.1 0.1 0.1]\n"
     ]
    }
   ],
   "source": [
    "# gmm のオブジェクトができた\n",
    "gmm = GMM(2, 10)\n",
    "for each_gaussian in gmm.gaussian_list:\n",
    "    print(each_gaussian.mean)\n",
    "print(gmm.weight)"
   ]
  },
  {
   "cell_type": "markdown",
   "metadata": {
    "slideshow": {
     "slide_type": "slide"
    }
   },
   "source": [
    "以降、EMアルゴリズムでパラメタ推定をする `fit` を書きたい\n",
    "\n",
    "- `log_pdf`: 現在のパラメタを用いてサンプルの対数尤度を計算するメソッド\n",
    "- `e_step`: Eステップを実行するメソッド\n",
    "- `m_step`: Mステップを実行するメソッド\n",
    "\n",
    "の3つを実装し、これらを組み合わせて `fit` を書く"
   ]
  },
  {
   "cell_type": "markdown",
   "metadata": {
    "slideshow": {
     "slide_type": "slide"
    }
   },
   "source": [
    "# 課題\n",
    "\n",
    "- サンプルの対数尤度を計算するメソッド `log_pdf` を `GMM` に実装せよ\n",
    "    - 引数: `X`: サンプルサイズ$\\times$次元の行列\n",
    "    - 返り値: $\\begin{bmatrix}\\log p(x_1; \\theta) & \\dots & \\log p(x_N; \\theta)\\end{bmatrix}$ ($\\theta$は現在の内部状態を用いる)\n",
    "    $$\n",
    "    p(x_n; \\theta) = \\sum_{k=1}^K \\pi_{k} \\mathcal{N}(x_n; \\mu_k, \\Sigma_k)\n",
    "    $$"
   ]
  },
  {
   "cell_type": "code",
   "execution_count": 5,
   "metadata": {
    "slideshow": {
     "slide_type": "slide"
    }
   },
   "outputs": [],
   "source": [
    "class GMM:\n",
    "    def __init__(self, dim, num_components):\n",
    "        self. dim = dim\n",
    "        self.num_components = num_components\n",
    "        self.gaussian_list = []\n",
    "        self.weight = np.ones(self.num_components) / self.num_components\n",
    "        for _ in range(self.num_components):\n",
    "            self.gaussian_list.append(Gaussian(dim))\n",
    "\n",
    "    def log_pdf(self, X):\n",
    "        sample_size = X.shape[0]\n",
    "        likelihood = np.zeros(sample_size) # 各データの尤度を計算する\n",
    "        '''\n",
    "        ここで現在の内部状態での likelihood を計算する\n",
    "        \n",
    "        ** ヒント **\n",
    "        self.gaussian_list の各要素は Gaussian クラスのオブジェクト\n",
    "        各データの対数尤度を計算する log_pdf という命令が実装してあった\n",
    "        '''\n",
    "        return np.log(likelihood) # 対数尤度が欲しいので対数をとる"
   ]
  },
  {
   "cell_type": "markdown",
   "metadata": {
    "slideshow": {
     "slide_type": "slide"
    }
   },
   "source": [
    "# ヒント\n",
    "\n",
    "- `self.gaussian_list[0].log_pdf(X)` はサンプル `X` のデータそれぞれに対する対数尤度を計算する\n",
    "    - `X` が `sample_size` x `dim` とすると、返り値は長さ `sample_size` の配列"
   ]
  },
  {
   "cell_type": "markdown",
   "metadata": {},
   "source": [
    "- `self.weight[0]` は $p(z=0; \\theta)$ に対応する\n",
    "- `self.weight[0] * np.exp(self.gaussian_list[0].log_pdf(X))` は `np.exp(self.gaussian_list[0].log_pdf(X))` の各要素に `self.weight[0]` を掛けた値を返す\n",
    "    - `スカラー * 配列` と書くと、配列の各要素にスカラーを掛けてくれる（`numpy` の記法）"
   ]
  },
  {
   "cell_type": "code",
   "execution_count": 6,
   "metadata": {
    "slideshow": {
     "slide_type": "slide"
    }
   },
   "outputs": [],
   "source": [
    "class GMM:\n",
    "    def __init__(self, dim, num_components):\n",
    "        self. dim = dim\n",
    "        self.num_components = num_components\n",
    "        self.gaussian_list = []\n",
    "        self.weight = np.ones(self.num_components) / self.num_components\n",
    "        for _ in range(self.num_components):\n",
    "            self.gaussian_list.append(Gaussian(dim))\n",
    "\n",
    "    def log_pdf(self, X):\n",
    "        sample_size = X.shape[0]\n",
    "        likelihood = np.zeros(sample_size) # 各データの尤度を計算する\n",
    "        for each_component in range(self.num_components):\n",
    "            likelihood = likelihood + self.weight[each_component] * np.exp(self.gaussian_list[each_component].log_pdf(X))\n",
    "        return np.log(likelihood)"
   ]
  },
  {
   "cell_type": "code",
   "execution_count": 7,
   "metadata": {
    "slideshow": {
     "slide_type": "slide"
    }
   },
   "outputs": [
    {
     "data": {
      "text/plain": [
       "array([-2.69652435, -2.96796248, -4.89131967, -3.1702481 , -3.24433021,\n",
       "       -3.08248415, -2.91850573, -3.52285946, -3.16371418, -3.23237037,\n",
       "       -3.74293894, -3.5214885 , -3.1583319 , -2.84891282, -2.75931064,\n",
       "       -2.99683467, -3.72387996, -3.0640002 , -3.34914635, -4.06090585,\n",
       "       -3.16345834, -3.41665388, -2.76468276, -3.2807772 , -3.66944035,\n",
       "       -3.03921052, -3.33118624, -3.22770282, -2.94774037, -3.39416585,\n",
       "       -3.1466523 , -5.50732003, -3.11963635, -3.65342442, -3.59434391,\n",
       "       -3.70828337, -3.74232986, -3.0086893 , -3.23703287, -3.67535367,\n",
       "       -2.81592221, -2.89318612, -4.05476207, -3.55411438, -3.09078557,\n",
       "       -2.91188748, -3.44218755, -3.60437493, -3.54660401, -3.22791858,\n",
       "       -3.27805091, -2.68483982, -3.24961246, -2.92229927, -3.33159244,\n",
       "       -3.2882023 , -3.35939904, -4.06176047, -3.29525287, -2.68343194,\n",
       "       -4.78424231, -2.83002678, -2.8115925 , -4.42558718, -3.10642393,\n",
       "       -2.85641264, -3.06363619, -2.99696914, -2.96048535, -4.43518946,\n",
       "       -3.78040973, -4.08953137, -3.21445077, -2.63636973, -3.3859773 ,\n",
       "       -2.9595884 , -2.81258003, -2.79565282, -2.97288299, -3.65097257,\n",
       "       -3.35548882, -3.81541285, -3.1132851 , -2.76267236, -3.64955865,\n",
       "       -3.6841936 , -2.98585495, -4.62080296, -2.9579421 , -3.74489359,\n",
       "       -2.93590011, -2.92699217, -2.78397938, -2.98430605, -3.83117967,\n",
       "       -3.08161503, -3.07949926, -2.98620245, -3.13161721, -3.8582244 ])"
      ]
     },
     "execution_count": 7,
     "metadata": {},
     "output_type": "execute_result"
    }
   ],
   "source": [
    "gmm = GMM(2, 10)\n",
    "gmm.log_pdf(np.random.randn(100, 2)) # とりあえず何か計算はできている"
   ]
  },
  {
   "cell_type": "markdown",
   "metadata": {
    "slideshow": {
     "slide_type": "slide"
    }
   },
   "source": [
    "# 課題\n",
    "- Eステップを実行するメソッド `e_step` を実装せよ\n",
    "    - 引数: データ `X`: `sample_size` $\\times$ `dim` の配列\n",
    "    - 出力: $q(z_n)$\n",
    "        - どのような形式で出力すべきか？"
   ]
  },
  {
   "cell_type": "markdown",
   "metadata": {
    "slideshow": {
     "slide_type": "slide"
    }
   },
   "source": [
    "- $q(z_n)$ は $K$ 面サイコロだったので、$K$面サイコロの確率分布をデータの数だけ出力すれば良さそう\n",
    "    - $K=$ `n_components`\n",
    "-  `posterior`: `sample_size` $\\times$ `n_components` の配列として出力\n",
    "-  `posterior[n, k]` = $q(z_n=k)$"
   ]
  },
  {
   "cell_type": "markdown",
   "metadata": {
    "slideshow": {
     "slide_type": "slide"
    }
   },
   "source": [
    "E-step: for each $n=1,\\dots,N, k=1,\\dots,K$,\n",
    "$$q(z_n=k)\\leftarrow \\dfrac{\\pi_k \\mathcal{N}(x_n; \\mu_k, \\Sigma_k)}{\\sum_{k=1}^K \\pi_k \\mathcal{N}(x_n; \\mu_k, \\Sigma_k)}$$"
   ]
  },
  {
   "cell_type": "code",
   "execution_count": null,
   "metadata": {
    "slideshow": {
     "slide_type": "slide"
    }
   },
   "outputs": [],
   "source": [
    "class GMM:\n",
    "    def __init__(self, dim, num_components):\n",
    "        self.dim = dim\n",
    "        self.num_components = num_components\n",
    "        self.gaussian_list = []\n",
    "        self.weight = np.ones(self.num_components) / self.num_components\n",
    "        for _ in range(self.num_components):\n",
    "            self.gaussian_list.append(Gaussian(dim))\n",
    "\n",
    "    def log_pdf(self, X):\n",
    "        sample_size = X.shape[0]\n",
    "        likelihood = np.zeros(sample_size) # 各データの尤度を計算する\n",
    "        for each_component in range(self.num_components):\n",
    "            likelihood = likelihood + self.weight[each_component] * np.exp(self.gaussian_list[each_component].log_pdf(X))\n",
    "        return np.log(likelihood)\n",
    "\n",
    "    def e_step(self, X):\n",
    "        sample_size = X.shape[0]\n",
    "        posterior = np.zeros((sample_size, self.num_components))\n",
    "        '''\n",
    "        ここを埋める\n",
    "        \n",
    "        ** ヒント **\n",
    "        各 k について、分母は共通\n",
    "        1. 分子を先に計算して posterior に入れてしまう\n",
    "        2. posterior[n, :].sum() は分母と等しくなる\n",
    "        3. posterior[n, :] = posterior[n, :] / posterior[n, :].sum() とすれば良さそう\n",
    "        '''\n",
    "        return posterior"
   ]
  },
  {
   "cell_type": "code",
   "execution_count": 8,
   "metadata": {
    "slideshow": {
     "slide_type": "slide"
    }
   },
   "outputs": [],
   "source": [
    "class GMM:\n",
    "    def __init__(self, dim, num_components):\n",
    "        self.dim = dim\n",
    "        self.num_components = num_components\n",
    "        self.gaussian_list = []\n",
    "        self.weight = np.ones(self.num_components) / self.num_components\n",
    "        for _ in range(self.num_components):\n",
    "            self.gaussian_list.append(Gaussian(dim))\n",
    "\n",
    "    def log_pdf(self, X):\n",
    "        sample_size = X.shape[0]\n",
    "        likelihood = np.zeros(sample_size) # 各データの尤度を計算する\n",
    "        for each_component in range(self.num_components):\n",
    "            likelihood = likelihood + self.weight[each_component] * np.exp(self.gaussian_list[each_component].log_pdf(X))\n",
    "        return np.log(likelihood)\n",
    "\n",
    "    def e_step(self, X):\n",
    "        sample_size = X.shape[0]\n",
    "        posterior = np.zeros((sample_size, self.num_components))\n",
    "        # 各コンポーネントで対数尤度が計算できるので、それを利用\n",
    "        for each_component in range(self.num_components):\n",
    "            posterior[:, each_component] \\\n",
    "               = self.weight[each_component] * np.exp(self.gaussian_list[each_component].log_pdf(X))\n",
    "        \n",
    "        # まとめて正規化しているが、 for 文でやってもOK（遅くなるけど）\n",
    "        posterior = posterior / posterior.sum(axis=1).reshape(-1, 1)\n",
    "        return posterior"
   ]
  },
  {
   "cell_type": "code",
   "execution_count": 9,
   "metadata": {
    "slideshow": {
     "slide_type": "slide"
    }
   },
   "outputs": [
    {
     "name": "stdout",
     "output_type": "stream",
     "text": [
      "[[0.88221534 0.11778466]]\n",
      "[[0.11778466 0.88221534]]\n"
     ]
    }
   ],
   "source": [
    "# q はデータがどちらのコンポーネントに近いかを表しているので、\n",
    "# そんな感じの結果になって欲しい\n",
    "gmm = GMM(2, 2)\n",
    "X = gmm.gaussian_list[0].mean.reshape(1, 2)\n",
    "print(gmm.e_step(X))\n",
    "X = gmm.gaussian_list[1].mean.reshape(1, 2)\n",
    "print(gmm.e_step(X))"
   ]
  },
  {
   "cell_type": "markdown",
   "metadata": {
    "slideshow": {
     "slide_type": "slide"
    }
   },
   "source": [
    "# 課題\n",
    "- Mステップを実行するメソッド `m_step` を実装せよ\n",
    "    - 引数: \n",
    "        - データ `X`: `sample_size` $\\times$ `dim` の配列\n",
    "        - $q(z_n = k)$ : `sample_size` $\\times$ `n_components`\n",
    "    - 出力: なし"
   ]
  },
  {
   "cell_type": "code",
   "execution_count": 10,
   "metadata": {
    "slideshow": {
     "slide_type": "slide"
    }
   },
   "outputs": [],
   "source": [
    "class GMM:\n",
    "    def __init__(self, dim, num_components):\n",
    "        self.dim = dim\n",
    "        self.num_components = num_components\n",
    "        self.gaussian_list = []\n",
    "        self.weight = np.ones(self.num_components) / self.num_components\n",
    "        for _ in range(self.num_components):\n",
    "            self.gaussian_list.append(Gaussian(dim))\n",
    "    \n",
    "    def fit(self, X, eps=1e-8):\n",
    "        sample_size = X.shape[0]\n",
    "        converge = False\n",
    "        old_ll = -np.inf\n",
    "        new_ll = -np.inf\n",
    "        while not converge:\n",
    "            posterior = self.e_step(X)\n",
    "            self.m_step(X, posterior)\n",
    "            new_ll = self.log_pdf(X).sum()\n",
    "            if new_ll < old_ll:\n",
    "                raise ValueError('likelihood decreases!')\n",
    "            if np.abs(old_ll - new_ll) / np.abs(new_ll) < eps:\n",
    "                converge = True\n",
    "            old_ll = new_ll\n",
    "        return posterior\n",
    "    \n",
    "    def e_step(self, X):\n",
    "        posterior = np.zeros((X.shape[0], self.num_components))\n",
    "        for each_component in range(self.num_components):\n",
    "            posterior[:, each_component] \\\n",
    "               = self.weight[each_component] * np.exp(self.gaussian_list[each_component].log_pdf(X))\n",
    "        posterior = posterior / posterior.sum(axis=1).reshape(-1, 1)\n",
    "        return posterior\n",
    "    \n",
    "    def m_step(self, X, posterior):\n",
    "        self.weight = posterior.sum(axis=0)\n",
    "        for each_component in range(self.num_components):\n",
    "            self.gaussian_list[each_component].set_mean(posterior[:, each_component] @ X / self.weight[each_component])\n",
    "            self.gaussian_list[each_component].set_cov(\n",
    "                (posterior[:, each_component] * (X - self.gaussian_list[each_component].mean).T) \\\n",
    "                @ (X - self.gaussian_list[each_component].mean) / self.weight[each_component])\n",
    "        self.weight = self.weight / np.sum(self.weight)\n",
    "    \n",
    "    def log_pdf(self, X):\n",
    "        sample_size = X.shape[0]\n",
    "        likelihood = np.zeros(sample_size) # 各データの尤度を計算する\n",
    "        for each_component in range(self.num_components):\n",
    "            likelihood = likelihood + self.weight[each_component] * np.exp(self.gaussian_list[each_component].log_pdf(X))\n",
    "        return np.log(likelihood)"
   ]
  },
  {
   "cell_type": "code",
   "execution_count": 11,
   "metadata": {
    "slideshow": {
     "slide_type": "slide"
    }
   },
   "outputs": [],
   "source": [
    "X = np.vstack((np.random.randn(100, 3), np.random.randn(100, 3) + 3))\n",
    "gmm = GMM(3, 2)\n",
    "posterior = gmm.fit(X)"
   ]
  },
  {
   "cell_type": "code",
   "execution_count": 12,
   "metadata": {},
   "outputs": [
    {
     "name": "stdout",
     "output_type": "stream",
     "text": [
      "[0.13980818 0.20565738 0.06642373]\n",
      "[2.99866878 3.109732   3.04706779]\n"
     ]
    }
   ],
   "source": [
    "print(gmm.gaussian_list[0].mean)\n",
    "print(gmm.gaussian_list[1].mean)"
   ]
  },
  {
   "cell_type": "code",
   "execution_count": 13,
   "metadata": {},
   "outputs": [
    {
     "data": {
      "text/plain": [
       "array([[9.99990558e-01, 9.44244297e-06],\n",
       "       [1.00000000e+00, 8.36488013e-14],\n",
       "       [1.00000000e+00, 1.35241168e-11],\n",
       "       [9.99999973e-01, 2.74890763e-08],\n",
       "       [9.99999529e-01, 4.71319607e-07],\n",
       "       [9.99999968e-01, 3.15163883e-08],\n",
       "       [9.99999945e-01, 5.49695989e-08],\n",
       "       [1.00000000e+00, 3.82693458e-10],\n",
       "       [1.00000000e+00, 2.61726889e-12],\n",
       "       [9.99999816e-01, 1.84044374e-07],\n",
       "       [9.99993365e-01, 6.63463824e-06],\n",
       "       [1.00000000e+00, 6.62717623e-14],\n",
       "       [9.99802783e-01, 1.97217288e-04],\n",
       "       [9.99999999e-01, 1.31993665e-09],\n",
       "       [9.46845549e-01, 5.31544509e-02],\n",
       "       [9.99999026e-01, 9.73648515e-07],\n",
       "       [1.00000000e+00, 1.56758489e-11],\n",
       "       [9.99999945e-01, 5.51277759e-08],\n",
       "       [1.00000000e+00, 5.14591345e-11],\n",
       "       [9.99650417e-01, 3.49583058e-04],\n",
       "       [9.99244383e-01, 7.55617086e-04],\n",
       "       [9.99998068e-01, 1.93164393e-06],\n",
       "       [9.99999988e-01, 1.16642477e-08],\n",
       "       [9.69406813e-01, 3.05931874e-02],\n",
       "       [1.00000000e+00, 1.87063747e-10],\n",
       "       [9.99861218e-01, 1.38781871e-04],\n",
       "       [9.97492633e-01, 2.50736697e-03],\n",
       "       [9.99671255e-01, 3.28745310e-04],\n",
       "       [9.86373657e-01, 1.36263428e-02],\n",
       "       [9.99934472e-01, 6.55283721e-05],\n",
       "       [9.99999997e-01, 2.69281269e-09],\n",
       "       [9.99999967e-01, 3.29865314e-08],\n",
       "       [9.16763487e-01, 8.32365134e-02],\n",
       "       [9.99946823e-01, 5.31772506e-05],\n",
       "       [9.99999690e-01, 3.09904011e-07],\n",
       "       [9.99918627e-01, 8.13728785e-05],\n",
       "       [9.99999998e-01, 2.20730304e-09],\n",
       "       [9.99999999e-01, 1.22078382e-09],\n",
       "       [9.99991450e-01, 8.55046281e-06],\n",
       "       [9.99997658e-01, 2.34189008e-06],\n",
       "       [9.99999782e-01, 2.18297264e-07],\n",
       "       [9.99999822e-01, 1.77606196e-07],\n",
       "       [9.99999491e-01, 5.08526704e-07],\n",
       "       [1.00000000e+00, 6.37306682e-16],\n",
       "       [1.00000000e+00, 5.71858081e-11],\n",
       "       [9.99999474e-01, 5.26370533e-07],\n",
       "       [9.99999431e-01, 5.68546211e-07],\n",
       "       [1.00000000e+00, 1.32704215e-11],\n",
       "       [9.99995136e-01, 4.86354567e-06],\n",
       "       [1.00000000e+00, 1.05618198e-10],\n",
       "       [9.99999466e-01, 5.33935938e-07],\n",
       "       [9.99946598e-01, 5.34020292e-05],\n",
       "       [9.99999482e-01, 5.18064657e-07],\n",
       "       [9.99999999e-01, 1.04106572e-09],\n",
       "       [9.99994210e-01, 5.78957677e-06],\n",
       "       [9.99992940e-01, 7.05993407e-06],\n",
       "       [9.99975305e-01, 2.46947270e-05],\n",
       "       [9.99980891e-01, 1.91091279e-05],\n",
       "       [9.99999985e-01, 1.54099738e-08],\n",
       "       [1.00000000e+00, 3.10882112e-10],\n",
       "       [9.99999998e-01, 2.07179930e-09],\n",
       "       [9.99919895e-01, 8.01054826e-05],\n",
       "       [1.00000000e+00, 8.84010788e-13],\n",
       "       [9.99999496e-01, 5.03709541e-07],\n",
       "       [9.99999974e-01, 2.62431124e-08],\n",
       "       [9.99997031e-01, 2.96948538e-06],\n",
       "       [9.99999178e-01, 8.22138662e-07],\n",
       "       [1.00000000e+00, 6.87076243e-14],\n",
       "       [9.99999934e-01, 6.55934118e-08],\n",
       "       [9.98586476e-01, 1.41352422e-03],\n",
       "       [1.00000000e+00, 4.77016717e-10],\n",
       "       [9.99999192e-01, 8.08354735e-07],\n",
       "       [9.99969766e-01, 3.02344121e-05],\n",
       "       [9.99999976e-01, 2.36443785e-08],\n",
       "       [9.99999990e-01, 9.78779319e-09],\n",
       "       [9.99999644e-01, 3.55946028e-07],\n",
       "       [9.99999999e-01, 5.31520218e-10],\n",
       "       [9.99999889e-01, 1.10902796e-07],\n",
       "       [9.99999583e-01, 4.16814278e-07],\n",
       "       [9.99999981e-01, 1.87792759e-08],\n",
       "       [1.00000000e+00, 8.19831370e-12],\n",
       "       [9.99999941e-01, 5.92384717e-08],\n",
       "       [9.99966055e-01, 3.39446407e-05],\n",
       "       [1.00000000e+00, 3.07063141e-12],\n",
       "       [9.99997216e-01, 2.78358396e-06],\n",
       "       [9.99993156e-01, 6.84439344e-06],\n",
       "       [9.99994994e-01, 5.00577261e-06],\n",
       "       [9.98986509e-01, 1.01349059e-03],\n",
       "       [9.99382131e-01, 6.17869023e-04],\n",
       "       [9.99826475e-01, 1.73525038e-04],\n",
       "       [9.99915761e-01, 8.42387414e-05],\n",
       "       [9.99999998e-01, 1.79682687e-09],\n",
       "       [9.99999926e-01, 7.38567870e-08],\n",
       "       [9.99999948e-01, 5.24775337e-08],\n",
       "       [9.99672526e-01, 3.27473632e-04],\n",
       "       [9.99998354e-01, 1.64586650e-06],\n",
       "       [9.99999998e-01, 2.11458395e-09],\n",
       "       [1.00000000e+00, 4.38119808e-11],\n",
       "       [9.99999997e-01, 2.51606273e-09],\n",
       "       [9.99999839e-01, 1.61261349e-07],\n",
       "       [4.00732499e-02, 9.59926750e-01],\n",
       "       [1.77647477e-05, 9.99982235e-01],\n",
       "       [6.52864725e-04, 9.99347135e-01],\n",
       "       [3.21154698e-07, 9.99999679e-01],\n",
       "       [3.70070481e-07, 9.99999630e-01],\n",
       "       [3.61589844e-04, 9.99638410e-01],\n",
       "       [5.39134795e-03, 9.94608652e-01],\n",
       "       [3.74215678e-03, 9.96257843e-01],\n",
       "       [5.61212520e-06, 9.99994388e-01],\n",
       "       [4.87710736e-07, 9.99999512e-01],\n",
       "       [8.59781074e-07, 9.99999140e-01],\n",
       "       [4.18711096e-07, 9.99999581e-01],\n",
       "       [8.30934216e-08, 9.99999917e-01],\n",
       "       [1.25304551e-06, 9.99998747e-01],\n",
       "       [2.61441370e-07, 9.99999739e-01],\n",
       "       [7.14497211e-06, 9.99992855e-01],\n",
       "       [2.34543039e-03, 9.97654570e-01],\n",
       "       [2.63237950e-08, 9.99999974e-01],\n",
       "       [3.33317334e-06, 9.99996667e-01],\n",
       "       [4.33251169e-07, 9.99999567e-01],\n",
       "       [1.36332917e-05, 9.99986367e-01],\n",
       "       [3.00666158e-02, 9.69933384e-01],\n",
       "       [4.14729174e-05, 9.99958527e-01],\n",
       "       [4.49728297e-03, 9.95502717e-01],\n",
       "       [3.14448194e-05, 9.99968555e-01],\n",
       "       [5.94606220e-05, 9.99940539e-01],\n",
       "       [4.75999290e-06, 9.99995240e-01],\n",
       "       [5.95544783e-06, 9.99994045e-01],\n",
       "       [5.81946345e-09, 9.99999994e-01],\n",
       "       [3.67002520e-06, 9.99996330e-01],\n",
       "       [1.36170488e-06, 9.99998638e-01],\n",
       "       [1.04221360e-05, 9.99989578e-01],\n",
       "       [4.34723245e-02, 9.56527675e-01],\n",
       "       [8.54276623e-06, 9.99991457e-01],\n",
       "       [1.41157079e-04, 9.99858843e-01],\n",
       "       [5.78082787e-04, 9.99421917e-01],\n",
       "       [1.37878392e-03, 9.98621216e-01],\n",
       "       [2.61638839e-04, 9.99738361e-01],\n",
       "       [2.89569828e-08, 9.99999971e-01],\n",
       "       [2.27123731e-05, 9.99977288e-01],\n",
       "       [4.12031202e-07, 9.99999588e-01],\n",
       "       [5.15361402e-07, 9.99999485e-01],\n",
       "       [5.47296396e-06, 9.99994527e-01],\n",
       "       [7.38342525e-06, 9.99992617e-01],\n",
       "       [5.87485283e-06, 9.99994125e-01],\n",
       "       [4.88061193e-05, 9.99951194e-01],\n",
       "       [7.56199489e-07, 9.99999244e-01],\n",
       "       [8.17831507e-05, 9.99918217e-01],\n",
       "       [5.60557949e-05, 9.99943944e-01],\n",
       "       [2.33688143e-08, 9.99999977e-01],\n",
       "       [6.49908471e-02, 9.35009153e-01],\n",
       "       [1.38207542e-03, 9.98617925e-01],\n",
       "       [2.20924449e-07, 9.99999779e-01],\n",
       "       [3.66954859e-07, 9.99999633e-01],\n",
       "       [1.16946866e-06, 9.99998831e-01],\n",
       "       [1.42058488e-04, 9.99857942e-01],\n",
       "       [1.03176307e-01, 8.96823693e-01],\n",
       "       [4.17284665e-01, 5.82715335e-01],\n",
       "       [4.28400623e-05, 9.99957160e-01],\n",
       "       [1.68595982e-06, 9.99998314e-01],\n",
       "       [8.08100936e-06, 9.99991919e-01],\n",
       "       [1.90157945e-05, 9.99980984e-01],\n",
       "       [2.13965121e-03, 9.97860349e-01],\n",
       "       [1.53521085e-04, 9.99846479e-01],\n",
       "       [4.70261549e-06, 9.99995297e-01],\n",
       "       [6.78602683e-08, 9.99999932e-01],\n",
       "       [4.25446104e-05, 9.99957455e-01],\n",
       "       [8.65306632e-04, 9.99134693e-01],\n",
       "       [1.01930544e-02, 9.89806946e-01],\n",
       "       [1.58273514e-04, 9.99841726e-01],\n",
       "       [1.40757415e-07, 9.99999859e-01],\n",
       "       [2.42581541e-05, 9.99975742e-01],\n",
       "       [2.03580173e-06, 9.99997964e-01],\n",
       "       [3.34259376e-06, 9.99996657e-01],\n",
       "       [1.41081422e-04, 9.99858919e-01],\n",
       "       [3.39473885e-04, 9.99660526e-01],\n",
       "       [4.50734303e-05, 9.99954927e-01],\n",
       "       [9.13168420e-03, 9.90868316e-01],\n",
       "       [1.16971874e-06, 9.99998830e-01],\n",
       "       [6.43243537e-08, 9.99999936e-01],\n",
       "       [3.27742626e-06, 9.99996723e-01],\n",
       "       [9.42710450e-06, 9.99990573e-01],\n",
       "       [7.44648691e-06, 9.99992554e-01],\n",
       "       [2.32021704e-02, 9.76797830e-01],\n",
       "       [5.19646213e-04, 9.99480354e-01],\n",
       "       [5.56804306e-05, 9.99944320e-01],\n",
       "       [3.99790012e-05, 9.99960021e-01],\n",
       "       [2.96310675e-01, 7.03689325e-01],\n",
       "       [4.02354080e-07, 9.99999598e-01],\n",
       "       [2.80466718e-07, 9.99999720e-01],\n",
       "       [7.19593976e-06, 9.99992804e-01],\n",
       "       [2.49844471e-07, 9.99999750e-01],\n",
       "       [9.94958762e-06, 9.99990050e-01],\n",
       "       [1.74640683e-05, 9.99982536e-01],\n",
       "       [2.17872106e-03, 9.97821279e-01],\n",
       "       [8.92791035e-05, 9.99910721e-01],\n",
       "       [1.03696044e-04, 9.99896304e-01],\n",
       "       [1.62374116e-05, 9.99983763e-01],\n",
       "       [4.20242221e-07, 9.99999580e-01],\n",
       "       [3.51354970e-06, 9.99996486e-01]])"
      ]
     },
     "execution_count": 13,
     "metadata": {},
     "output_type": "execute_result"
    }
   ],
   "source": [
    "posterior"
   ]
  },
  {
   "cell_type": "code",
   "execution_count": null,
   "metadata": {},
   "outputs": [],
   "source": []
  }
 ],
 "metadata": {
  "celltoolbar": "Slideshow",
  "kernelspec": {
   "display_name": "Python 3 (ipykernel)",
   "language": "python",
   "name": "python3"
  },
  "language_info": {
   "codemirror_mode": {
    "name": "ipython",
    "version": 3
   },
   "file_extension": ".py",
   "mimetype": "text/x-python",
   "name": "python",
   "nbconvert_exporter": "python",
   "pygments_lexer": "ipython3",
   "version": "3.10.8"
  },
  "livereveal": {
   "center": false,
   "controls": true,
   "progress": true,
   "scroll": true,
   "slideNumber": true,
   "start_slideshow_at": "selected",
   "transition": "slide"
  }
 },
 "nbformat": 4,
 "nbformat_minor": 2
}
