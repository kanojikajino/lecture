{
 "cells": [
  {
   "cell_type": "code",
   "execution_count": 1,
   "metadata": {
    "slideshow": {
     "slide_type": "skip"
    }
   },
   "outputs": [
    {
     "data": {
      "text/html": [
       "<link rel=\"stylesheet\" type=\"text/css\" href=\"../custom.css\">\n"
      ],
      "text/plain": [
       "<IPython.core.display.HTML object>"
      ]
     },
     "metadata": {},
     "output_type": "display_data"
    }
   ],
   "source": [
    "%%HTML\n",
    "<link rel=\"stylesheet\" type=\"text/css\" href=\"../custom.css\">"
   ]
  },
  {
   "cell_type": "markdown",
   "metadata": {
    "slideshow": {
     "slide_type": "slide"
    }
   },
   "source": [
    "# 応用計量分析２（第4回）\n",
    "\n",
    "\n",
    "\n",
    "\n",
    "\n",
    "\n",
    "\n",
    "### 担当教員: 梶野 洸（かじの ひろし）\n"
   ]
  },
  {
   "cell_type": "markdown",
   "metadata": {
    "slideshow": {
     "slide_type": "slide"
    }
   },
   "source": [
    "# 本日の内容\n",
    "Python に慣れようの回（つづき）\n",
    "\n",
    "- 制御構文\n",
    "    - if 文\n",
    "    - for 文\n",
    "    - while 文"
   ]
  },
  {
   "cell_type": "markdown",
   "metadata": {
    "slideshow": {
     "slide_type": "slide"
    }
   },
   "source": [
    "# 先週までのまとめ\n",
    "- 数値、文字列、リスト、タプル、辞書など基本的なオブジェクトを触った\n",
    "    - 複数の値を持っておきたいとき、基本はリストか辞書\n",
    "    - 整数以外のキーで要素を取り出したい場合は辞書\n",
    "- 数値計算をすこしやった\n",
    "- 変数・関数"
   ]
  },
  {
   "cell_type": "markdown",
   "metadata": {
    "slideshow": {
     "slide_type": "slide"
    }
   },
   "source": [
    "# ここから\n",
    "制御構文に慣れ親しむ\n",
    "- if 文\n",
    "- for 文\n",
    "- while 文"
   ]
  },
  {
   "cell_type": "markdown",
   "metadata": {
    "slideshow": {
     "slide_type": "slide"
    }
   },
   "source": [
    "# 条件・if文\n",
    "ある条件が満たされたときだけ実行される"
   ]
  },
  {
   "cell_type": "code",
   "execution_count": 5,
   "metadata": {},
   "outputs": [
    {
     "name": "stdout",
     "output_type": "stream",
     "text": [
      "True\n"
     ]
    }
   ],
   "source": [
    "x = 0\n",
    "print(x == 1) # x が 1 と等しいとき True\n",
    "print(x != 1) # x が 1 ではないとき True\n",
    "print(x != 0) # x が 0 ではないとき True"
   ]
  },
  {
   "cell_type": "code",
   "execution_count": 8,
   "metadata": {},
   "outputs": [
    {
     "name": "stdout",
     "output_type": "stream",
     "text": [
      "hello world\n",
      "yay!!!!!!!!!\n"
     ]
    }
   ],
   "source": [
    "x = 0\n",
    "# if (True/Falseを返す条件):\n",
    "#    True ならば実行するコード（Falseの時は実行されない）\n",
    "if x == 0: # もし x が 0 と等しいならば、以下を実行する\n",
    "    print('hello world')\n",
    "print('yay!!!!!!!!!')"
   ]
  },
  {
   "cell_type": "code",
   "execution_count": 10,
   "metadata": {},
   "outputs": [
    {
     "name": "stdout",
     "output_type": "stream",
     "text": [
      "yay!\n",
      "yayyay\n",
      "hello\n"
     ]
    }
   ],
   "source": [
    "x = [0,1]\n",
    "if x[0] == 0: # if (条件): が if 文\n",
    "    print('yay!') # Python では必ず <tab> を打ってインデントを下げる！\n",
    "    if x[1] == 1: # if 文の中に if 文を入れられる\n",
    "        print('yayyay')\n",
    "print('hello') # インデントが下がっていないので、ここからは if 文の外"
   ]
  },
  {
   "cell_type": "code",
   "execution_count": 11,
   "metadata": {},
   "outputs": [
    {
     "ename": "IndentationError",
     "evalue": "expected an indented block after 'if' statement on line 2 (2386876309.py, line 3)",
     "output_type": "error",
     "traceback": [
      "\u001b[0;36m  Cell \u001b[0;32mIn [11], line 3\u001b[0;36m\u001b[0m\n\u001b[0;31m    print('yay!') # かならず <tab> を打ってインデントを下げる！\u001b[0m\n\u001b[0m    ^\u001b[0m\n\u001b[0;31mIndentationError\u001b[0m\u001b[0;31m:\u001b[0m expected an indented block after 'if' statement on line 2\n"
     ]
    }
   ],
   "source": [
    "x = 1\n",
    "if x == 0: # if (条件): が if 文\n",
    "print('yay!') # かならず <tab> を打ってインデントを下げる！"
   ]
  },
  {
   "cell_type": "code",
   "execution_count": 13,
   "metadata": {},
   "outputs": [
    {
     "name": "stdout",
     "output_type": "stream",
     "text": [
      "x=0\n"
     ]
    }
   ],
   "source": [
    "x = 0\n",
    "if x == 0:\n",
    "    print('x=0')\n",
    "else: # if 文の条件がFalseの場合に実行される\n",
    "    print('x!=0')"
   ]
  },
  {
   "cell_type": "code",
   "execution_count": 16,
   "metadata": {},
   "outputs": [
    {
     "name": "stdout",
     "output_type": "stream",
     "text": [
      "x!=0 and x!=1\n"
     ]
    }
   ],
   "source": [
    "x = 0\n",
    "if x == 0:\n",
    "    print('x=0')\n",
    "elif x == 1:\n",
    "    print('x=1')\n",
    "else:\n",
    "    print('x!=0 and x!=1')"
   ]
  },
  {
   "cell_type": "markdown",
   "metadata": {
    "slideshow": {
     "slide_type": "slide"
    }
   },
   "source": [
    "# for 文"
   ]
  },
  {
   "cell_type": "code",
   "execution_count": 17,
   "metadata": {},
   "outputs": [
    {
     "name": "stdout",
     "output_type": "stream",
     "text": [
      "0\n",
      "1\n",
      "2\n",
      "3\n",
      "4\n"
     ]
    }
   ],
   "source": [
    "for i in [0, 1, 2, 3, 4]: # for <変数名> in <なんかリスト的なもの>:\n",
    "    print(i)"
   ]
  },
  {
   "cell_type": "code",
   "execution_count": 18,
   "metadata": {},
   "outputs": [
    {
     "name": "stdout",
     "output_type": "stream",
     "text": [
      "0\n",
      "1\n",
      "2\n",
      "3\n",
      "4\n"
     ]
    }
   ],
   "source": [
    "for i in range(5): # range(5) だと 0,1,...,4\n",
    "    print(i)        # for 文内はインデントを下げる"
   ]
  },
  {
   "cell_type": "code",
   "execution_count": 19,
   "metadata": {},
   "outputs": [
    {
     "ename": "IndentationError",
     "evalue": "expected an indented block after 'for' statement on line 1 (3583909904.py, line 2)",
     "output_type": "error",
     "traceback": [
      "\u001b[0;36m  Cell \u001b[0;32mIn [19], line 2\u001b[0;36m\u001b[0m\n\u001b[0;31m    print(i)\u001b[0m\n\u001b[0m    ^\u001b[0m\n\u001b[0;31mIndentationError\u001b[0m\u001b[0;31m:\u001b[0m expected an indented block after 'for' statement on line 1\n"
     ]
    }
   ],
   "source": [
    "for i in range(5): # range(5) だと 0,1,...,4\n",
    "print(i)"
   ]
  },
  {
   "cell_type": "code",
   "execution_count": 20,
   "metadata": {},
   "outputs": [
    {
     "name": "stdout",
     "output_type": "stream",
     "text": [
      "1\n",
      "2\n",
      "3\n",
      "4\n"
     ]
    }
   ],
   "source": [
    "for i in range(1, 5): # range(1,5) だと 1,2,...,4\n",
    "    print(i)"
   ]
  },
  {
   "cell_type": "code",
   "execution_count": 21,
   "metadata": {},
   "outputs": [
    {
     "name": "stdout",
     "output_type": "stream",
     "text": [
      "0\n",
      "3\n",
      "6\n",
      "9\n"
     ]
    }
   ],
   "source": [
    "for i in range(0, 10, 3): # range(0, 10, 3) だと 3 ごとに\n",
    "    print(i)"
   ]
  },
  {
   "cell_type": "code",
   "execution_count": 25,
   "metadata": {},
   "outputs": [
    {
     "name": "stdout",
     "output_type": "stream",
     "text": [
      "True\n"
     ]
    }
   ],
   "source": [
    "#print(range(0,10) == [0,1,2,3,4,5,6,7,8,9]) # range はリストっぽいけどリストじゃない\n",
    "print(list(range(0,10)) == [0,1,2,3,4,5,6,7,8,9]) # リストに変換することもできる"
   ]
  },
  {
   "cell_type": "markdown",
   "metadata": {
    "slideshow": {
     "slide_type": "slide"
    }
   },
   "source": [
    "# while 文"
   ]
  },
  {
   "cell_type": "code",
   "execution_count": 26,
   "metadata": {},
   "outputs": [
    {
     "name": "stdout",
     "output_type": "stream",
     "text": [
      "1\n",
      "2\n",
      "3\n",
      "4\n",
      "5\n",
      "6\n",
      "7\n",
      "8\n",
      "9\n",
      "10\n",
      "done\n"
     ]
    }
   ],
   "source": [
    "i = 0\n",
    "while i < 10: # i<10 である限りインデント以下の操作を繰り返す\n",
    "    i = i + 1\n",
    "    print(i)\n",
    "print('done')"
   ]
  },
  {
   "cell_type": "markdown",
   "metadata": {
    "slideshow": {
     "slide_type": "slide"
    }
   },
   "source": [
    "# 演習3.2\n",
    "1. `max_int`  （0以上の整数） を入力とし、0 から `max_int`まで（`max_int`を含む）の偶数が昇順に並んだリストを出力する関数 `multiple_two` を完成させよ\n",
    "1. `max_int`  （0以上の整数） を入力とし、0 から `max_int`まで（`max_int`を含む）の3の倍数が昇順に並んだリストを出力する関数 `multiple_three` を完成させよ\n",
    "1. `max_int`  （0以上の整数） を入力とし、以下に定義する FizzBuzz ゲームの結果を `max_int` 回まで実行した結果からなるリストを出力する関数 `fizzbuzz` を完成させよ\n",
    "   - 1, 2, から順に数を言うゲームである\n",
    "   - 3 の倍数の時は数字の代わりに 'Fizz' と言う\n",
    "   - 5の倍数の時は数字の代わりに 'Buzz' と言う\n",
    "   - 15の倍数の時は数字の代わりに 'FizzBuzz' と言う（上2つよりこのルールが優先される）\n",
    "   - 例） `max_int=5` の時は `[1, 2, \"Fizz\", 4, \"Buzz\"]` というリストを返す"
   ]
  },
  {
   "cell_type": "markdown",
   "metadata": {
    "slideshow": {
     "slide_type": "skip"
    }
   },
   "source": [
    "1. FizzBuzz問題"
   ]
  },
  {
   "cell_type": "code",
   "execution_count": null,
   "metadata": {
    "slideshow": {
     "slide_type": "skip"
    }
   },
   "outputs": [],
   "source": [
    "for i in range(1,100):\n",
    "    if i % 3 == 0 and i % 5 != 0:\n",
    "        print('Fizz')\n",
    "    elif i % 3 != 0 and i % 5 == 0:\n",
    "        print('Buzz')\n",
    "    elif i % 3 == 0 and i % 5 == 0:\n",
    "        print('FizzBuzz')\n",
    "    else:\n",
    "        print(i)"
   ]
  },
  {
   "cell_type": "markdown",
   "metadata": {
    "slideshow": {
     "slide_type": "slide"
    }
   },
   "source": [
    "# その他の技法"
   ]
  },
  {
   "cell_type": "code",
   "execution_count": 27,
   "metadata": {
    "slideshow": {
     "slide_type": "-"
    }
   },
   "outputs": [],
   "source": [
    "def add_y_ntimes(x, y, n):\n",
    "    if n == 1:\n",
    "        return x + y\n",
    "    return add_y_ntimes(x + y, y, n - 1) # 関数の中で自分を呼んでも良い（再帰的呼び出し）"
   ]
  },
  {
   "cell_type": "code",
   "execution_count": 30,
   "metadata": {
    "slideshow": {
     "slide_type": "-"
    }
   },
   "outputs": [
    {
     "name": "stdout",
     "output_type": "stream",
     "text": [
      "11\n",
      "15\n"
     ]
    }
   ],
   "source": [
    "print(add_y_ntimes(10, 1, 1))\n",
    "print(add_y_ntimes(10, 1, 5))"
   ]
  },
  {
   "cell_type": "code",
   "execution_count": null,
   "metadata": {
    "slideshow": {
     "slide_type": "skip"
    }
   },
   "outputs": [],
   "source": [
    "# 何も返さなくても良い\n",
    "def fizz_buzz(max_iter):\n",
    "    for i in range(1, max_iter+1):\n",
    "        if i % 3 == 0 and i % 5 != 0:\n",
    "            print('Fizz')\n",
    "        elif i % 3 != 0 and i % 5 == 0:\n",
    "            print('Buzz')\n",
    "        elif i % 3 == 0 and i % 5 == 0:\n",
    "            print('FizzBuzz')\n",
    "        else:\n",
    "            print(i)"
   ]
  },
  {
   "cell_type": "code",
   "execution_count": null,
   "metadata": {
    "slideshow": {
     "slide_type": "skip"
    }
   },
   "outputs": [],
   "source": [
    "fizz_buzz(13)"
   ]
  },
  {
   "cell_type": "markdown",
   "metadata": {
    "slideshow": {
     "slide_type": "slide"
    }
   },
   "source": [
    "# 演習\n",
    "数値が入ったリストを入力したときに、小さい順に並べ直したリストを出力する関数を書け"
   ]
  },
  {
   "cell_type": "markdown",
   "metadata": {
    "slideshow": {
     "slide_type": "slide"
    }
   },
   "source": [
    "### ヒント\n",
    "クイックソート\n",
    "- 空リストをクイックソートすると空リスト\n",
    "- 要素数が1のリストをクイックソートすると同じリストを返す\n",
    "- 要素数が2以上のリストをクイックソートする場合，\n",
    "    - ひとつ要素を選ぶ（pivotとよぶ）\n",
    "    - リストのそれぞれの要素を見ていき，1)pivotより小さいもの，2)pivot，3)pivotより大きい物に分ける\n",
    "    - 1, 3についてそれぞれクイックソートする"
   ]
  },
  {
   "cell_type": "code",
   "execution_count": 31,
   "metadata": {
    "slideshow": {
     "slide_type": "slide"
    }
   },
   "outputs": [],
   "source": [
    "def quicksort(x):\n",
    "    if len(x) < 2:\n",
    "        return x\n",
    "    else:\n",
    "        left_list = []\n",
    "        right_list = []\n",
    "        num_pivot = 0\n",
    "        pivot = x[0]\n",
    "        \n",
    "        for each_element in x:\n",
    "            if each_element < pivot:\n",
    "                left_list.append(each_element)\n",
    "            elif each_element > pivot:\n",
    "                right_list.append(each_element)\n",
    "            else:\n",
    "                num_pivot = num_pivot + 1\n",
    "        return quicksort(left_list) + num_pivot * [pivot] + quicksort(right_list)"
   ]
  },
  {
   "cell_type": "code",
   "execution_count": 32,
   "metadata": {
    "slideshow": {
     "slide_type": "-"
    }
   },
   "outputs": [
    {
     "data": {
      "text/plain": [
       "[-1, 1, 1, 1, 2, 3]"
      ]
     },
     "execution_count": 32,
     "metadata": {},
     "output_type": "execute_result"
    }
   ],
   "source": [
    "quicksort([-1, 2, 1, 1, 1,3])"
   ]
  },
  {
   "cell_type": "code",
   "execution_count": 33,
   "metadata": {},
   "outputs": [
    {
     "data": {
      "text/plain": [
       "True"
      ]
     },
     "execution_count": 33,
     "metadata": {},
     "output_type": "execute_result"
    }
   ],
   "source": [
    "quicksort([1,2,3,4,5]) == [1,2,3,4,5]"
   ]
  },
  {
   "cell_type": "markdown",
   "metadata": {
    "slideshow": {
     "slide_type": "slide"
    }
   },
   "source": [
    "# まとめ\n",
    "\n",
    "- 基本的なデータ型を触った\n",
    "    - 単体: 数値、文字列\n",
    "    - 複数の値を格納するもの: リスト、辞書、タプル\n",
    "- 数値計算をちょっとやってみた\n",
    "    - 丸め誤差には注意"
   ]
  },
  {
   "cell_type": "markdown",
   "metadata": {
    "slideshow": {
     "slide_type": "slide"
    }
   },
   "source": [
    "- 制御構文を触った\n",
    "    - for文、if文、while文\n",
    "    - FizzBuzz\n",
    "    - 一段インデントを下げる！\n",
    "- 関数を定義した\n",
    "    - よく使う作業をひとかたまりにする\n",
    "    - 一段インデントを下げる！"
   ]
  },
  {
   "cell_type": "markdown",
   "metadata": {
    "slideshow": {
     "slide_type": "slide"
    }
   },
   "source": [
    "# 質問"
   ]
  }
 ],
 "metadata": {
  "celltoolbar": "Slideshow",
  "kernelspec": {
   "display_name": "Python 3 (ipykernel)",
   "language": "python",
   "name": "python3"
  },
  "language_info": {
   "codemirror_mode": {
    "name": "ipython",
    "version": 3
   },
   "file_extension": ".py",
   "mimetype": "text/x-python",
   "name": "python",
   "nbconvert_exporter": "python",
   "pygments_lexer": "ipython3",
   "version": "3.10.6"
  },
  "livereveal": {
   "center": false,
   "controls": true,
   "progress": true,
   "scroll": true,
   "slideNumber": true,
   "start_slideshow_at": "selected",
   "transition": "slide"
  }
 },
 "nbformat": 4,
 "nbformat_minor": 2
}
