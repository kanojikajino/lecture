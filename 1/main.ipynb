{
 "cells": [
  {
   "cell_type": "code",
   "execution_count": 2,
   "metadata": {},
   "outputs": [
    {
     "data": {
      "text/html": [
       "<link rel=\"stylesheet\" type=\"text/css\" href=\"../custom.css\">\n"
      ],
      "text/plain": [
       "<IPython.core.display.HTML object>"
      ]
     },
     "metadata": {},
     "output_type": "display_data"
    }
   ],
   "source": [
    "%%HTML\n",
    "<link rel=\"stylesheet\" type=\"text/css\" href=\"../custom.css\">"
   ]
  },
  {
   "cell_type": "markdown",
   "metadata": {
    "slideshow": {
     "slide_type": "slide"
    }
   },
   "source": [
    "# 応用計量分析２（第1回）\n",
    "\n",
    "\n",
    "\n",
    "\n",
    "\n",
    "\n",
    "\n",
    "### 担当教員: 梶野 洸（かじの ひろし）\n"
   ]
  },
  {
   "cell_type": "markdown",
   "metadata": {
    "slideshow": {
     "slide_type": "slide"
    }
   },
   "source": [
    "# 本日の内容\n",
    "---------------------\n",
    "\n",
    "- 自己紹介\n",
    "- 講義の概要紹介\n",
    "    - 目的\n",
    "    - 講義の進め方\n",
    "    - 評価方法\n",
    "    - 講義で必要な前提知識\n",
    "- はじめに\n",
    "    - 環境構築（Pythonのインストール）"
   ]
  },
  {
   "cell_type": "markdown",
   "metadata": {
    "slideshow": {
     "slide_type": "slide"
    }
   },
   "source": [
    "# 自己紹介\n",
    "\n",
    "- 名前: 梶野 洸（かじの ひろし）\n",
    "- 現所属: IBM Research - Tokyo \n",
    "    - 数理科学グループ（数学でなにかやる部署）\n",
    "    - 機械学習の研究やビジネス応用を担当\n",
    "        - 時系列解析やケモインフォマティクスへの応用など\n",
    "        - 最近は強化学習"
   ]
  },
  {
   "cell_type": "markdown",
   "metadata": {
    "slideshow": {
     "slide_type": "slide"
    }
   },
   "source": [
    "# 企業研究者という職業\n",
    "民間企業で研究者をやっています\n",
    "\n",
    "- 企業研究者の主な仕事\n",
    "    - 研究（論文書いたり）\n",
    "    - 開発（プログラム書いたり）\n",
    "    - ビジネス（お客様の課題解決に貢献したり）"
   ]
  },
  {
   "cell_type": "markdown",
   "metadata": {},
   "source": [
    "- 3つのバランスは会社・人ごとに異なる\n",
    "    - IBM東京基礎研究所では研究とビジネスの比重が大きい\n",
    "    - 開発は、ビジネスの一環としてやる程度"
   ]
  },
  {
   "cell_type": "markdown",
   "metadata": {
    "slideshow": {
     "slide_type": "slide"
    }
   },
   "source": [
    "<img src=\"figs/paper.png\">"
   ]
  },
  {
   "cell_type": "markdown",
   "metadata": {
    "slideshow": {
     "slide_type": "slide"
    }
   },
   "source": [
    "<img src=\"figs/icml19.png\">"
   ]
  },
  {
   "cell_type": "markdown",
   "metadata": {
    "slideshow": {
     "slide_type": "slide"
    }
   },
   "source": [
    "# 大学の研究者との違い\n",
    "企業研究所は良くも悪くもビジネスありき\n",
    "\n",
    "- 研究からビジネスへの橋渡しができる（しなければいけない）\n",
    "    - 作ったものを実際に使ってもらえる\n",
    "    - 研究しているだけでは出てこない問題が出てきて面白い\n",
    "- 会社の方針に左右される\n",
    "    - 会社が注力したい技術に沿ったことをやったほうがいい\n",
    "    - 現在は人工知能ブームなので、人工知能に関することをやる人が多い"
   ]
  },
  {
   "cell_type": "markdown",
   "metadata": {
    "slideshow": {
     "slide_type": "slide"
    }
   },
   "source": [
    "# わたしが教えられそうなこと\n",
    "実際に役に立っている技術 + それを支える基礎的な理論\n",
    "\n",
    "- 応用だけやっていても基礎が疎かになると新しい技術に対応できない\n",
    "- 基礎だけやっていてもモチベーションがわかないかもしれない"
   ]
  },
  {
   "cell_type": "markdown",
   "metadata": {
    "slideshow": {
     "slide_type": "slide"
    }
   },
   "source": [
    "# 講義のねらい\n",
    "数理的な基礎、プログラミングともに機械学習を課題解決のツールとして身につける\n",
    "\n",
    "- 数理的な手法を使って課題解決できることがあることを認識する\n",
    "    - 統計的機械学習の基礎を身につける\n",
    "    - プログラミングによる実践方法を身につける\n",
    "- その限界も（なんとなく）認識する\n",
    "    - すべてが人工知能で解決できるわけではない\n",
    "    - すべてが数理的な手法で解決できるわけではない"
   ]
  },
  {
   "cell_type": "markdown",
   "metadata": {
    "slideshow": {
     "slide_type": "slide"
    }
   },
   "source": [
    "# 講義の中身\n",
    "__機械学習__ の中の __教師なし学習__ を中心に、\n",
    "\n",
    "__数理的な内容__ から __プログラミング方法__ までを取扱います。"
   ]
  },
  {
   "cell_type": "markdown",
   "metadata": {
    "slideshow": {
     "slide_type": "fragment"
    }
   },
   "source": [
    "- 機械学習？\n",
    "- 教師なし学習？\n",
    "- 数理？\n",
    "- プログラミング？"
   ]
  },
  {
   "cell_type": "markdown",
   "metadata": {
    "slideshow": {
     "slide_type": "slide"
    }
   },
   "source": [
    "# 機械学習とは\n",
    "ある概念を具体例から帰納的に獲得する技術である。\n",
    "\n",
    "- 具体例: （画像, 猫かどうか）のペア\n",
    "- 概念: 画像に猫がいるかどうか\n",
    "\n",
    "<img src=\"figs/examples/1.png\" width=\"480px\">\n",
    "\n",
    "(画像は ImageNet より引用)"
   ]
  },
  {
   "cell_type": "markdown",
   "metadata": {
    "slideshow": {
     "slide_type": "slide"
    }
   },
   "source": [
    "# 機械学習とは\n",
    "ある概念を具体例から帰納的に獲得する技術である。\n",
    "\n",
    "- 具体例: 動物の画像\n",
    "- 概念: 動物の画像\n",
    "\n",
    "<img src=\"figs/unsupervised1.png\" width=\"480px\">\n",
    "\n",
    "(画像は ImageNet より引用)"
   ]
  },
  {
   "cell_type": "markdown",
   "metadata": {
    "slideshow": {
     "slide_type": "slide"
    }
   },
   "source": [
    "# 機械学習とは\n",
    "ある概念を具体例から帰納的に獲得する技術である。\n",
    "\n",
    "- 具体例: 動物の画像\n",
    "- 概念: 動物の（なんとなくの）分類\n",
    "\n",
    "<img src=\"figs/unsupervised2.png\" width=\"480px\">\n",
    "\n",
    "(画像は ImageNet より引用)"
   ]
  },
  {
   "cell_type": "markdown",
   "metadata": {
    "slideshow": {
     "slide_type": "slide"
    }
   },
   "source": [
    "# 機械学習の分類\n",
    "\n",
    "### 教師あり学習\n",
    "- データ $x$ とラベル $y$ の間の従う規則を推定する\n",
    "- 一番目の例\n",
    "\n",
    "### 教師なし学習\n",
    "- データ $x$ の従う規則を推定する\n",
    "- 二番目、三番目の例"
   ]
  },
  {
   "cell_type": "markdown",
   "metadata": {
    "slideshow": {
     "slide_type": "slide"
    }
   },
   "source": [
    "# 教師なし学習の用途\n",
    "\n",
    "- データセットの概要把握\n",
    "    - データセットがどのようなデータから成り立っているかが把握できる\n",
    "    - クラスタリング的な\n",
    "- 異常検知\n",
    "    - 学習した規則から外れたデータ=異常と判断できる\n",
    "- データ生成\n",
    "    - 画像や音声\n",
    "    - 化学物質\n",
    "    - Generative adversarial network を調べてみると面白いかも"
   ]
  },
  {
   "cell_type": "markdown",
   "metadata": {
    "slideshow": {
     "slide_type": "slide"
    }
   },
   "source": [
    "# 講義で必要な前提知識\n",
    "教養レベルの数学と簡単なプログラミングの知識を仮定します。\n",
    "\n",
    "### 線形代数\n",
    "行列積、逆行列、固有値、\n",
    "\n",
    "### 確率・統計\n",
    "条件付き確率、期待値、分散、（多変量正規分布、最尤推定）"
   ]
  },
  {
   "cell_type": "markdown",
   "metadata": {
    "slideshow": {
     "slide_type": "slide"
    }
   },
   "source": [
    "### プログラミング\n",
    "変数、for文、if文\n",
    "\n",
    "- Python を使います\n",
    "- 授業中に理解度チェックを行います"
   ]
  },
  {
   "cell_type": "markdown",
   "metadata": {
    "slideshow": {
     "slide_type": "slide"
    }
   },
   "source": [
    "# 講義の進め方\n",
    "非同期型のオンライン授業でやります．\n",
    "- 毎週授業の時間までに講義動画をアップロードします\n",
    "- プログラミング課題も適宜出します\n",
    "\n",
    "質問がある場合は気軽に聞いてください\n",
    "- LETUSの各講義のブロックに質問箱を置いておきます\n",
    "- わからない=私の説明が悪い、と思って気軽に聞いてください"
   ]
  },
  {
   "cell_type": "markdown",
   "metadata": {
    "slideshow": {
     "slide_type": "slide"
    }
   },
   "source": [
    "# 講義ページ\n",
    "ここに講義資料をPDFで置きます\n",
    "\n",
    "<img src='figs/qr_main.png' width=300px>"
   ]
  },
  {
   "cell_type": "markdown",
   "metadata": {
    "slideshow": {
     "slide_type": "slide"
    }
   },
   "source": [
    "# 評価方法\n",
    "\n",
    "- 期末レポートのみの予定ですが、理解度確認テストの結果を併用することも考えています\n",
    "    - 出席点は特に考えていないです\n",
    "    - 昨年度の期末レポートは[ここ](https://kanojikajino.github.io/lectures/2021/applied_analytics)を参照\n",
    "- （なんとなくの）評価基準\n",
    "    - ちゃんと自分でやってきたレポートに対しては優しい評価をします\n",
    "    - 他人のレポート写しやウェブからの剽窃には厳しく評価します"
   ]
  },
  {
   "cell_type": "markdown",
   "metadata": {
    "slideshow": {
     "slide_type": "slide"
    }
   },
   "source": [
    "# ここまでの話で質問"
   ]
  },
  {
   "cell_type": "markdown",
   "metadata": {
    "slideshow": {
     "slide_type": "slide"
    }
   },
   "source": [
    "# 課題兼宿題\n",
    "理解度テストのための環境構築と初回の課題提出をしてみてください。\n",
    "\n",
    "- 理解度テストのやり方は講義動画を見てください\n",
    "- 初回の課題のリンクは LETUS の\"トピック1\"を参照ください"
   ]
  }
 ],
 "metadata": {
  "celltoolbar": "Slideshow",
  "kernelspec": {
   "display_name": "Python 3 (ipykernel)",
   "language": "python",
   "name": "python3"
  },
  "language_info": {
   "codemirror_mode": {
    "name": "ipython",
    "version": 3
   },
   "file_extension": ".py",
   "mimetype": "text/x-python",
   "name": "python",
   "nbconvert_exporter": "python",
   "pygments_lexer": "ipython3",
   "version": "3.9.12"
  },
  "livereveal": {
   "center": false,
   "controls": true,
   "progress": true,
   "scroll": true,
   "slideNumber": true,
   "start_slideshow_at": "selected",
   "transition": "slide"
  }
 },
 "nbformat": 4,
 "nbformat_minor": 2
}
